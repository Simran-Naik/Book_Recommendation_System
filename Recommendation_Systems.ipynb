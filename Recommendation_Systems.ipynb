{
 "cells": [
  {
   "cell_type": "markdown",
   "metadata": {
    "id": "8qIdRaS4SMCo"
   },
   "source": [
    "#Project 274– Recommendation system\n",
    "\n",
    "##Business objective-\n",
    "\n",
    "Our business objective revolves around providing personalized book recommendations to users based on their preferences, using the information extracted from the Book Crossing dataset. This dataset comprises three essential files: Books, Users, and Ratings.\n",
    "\n",
    "**Books Dataset:** This dataset contains information about various books available in our system. It includes details such as book titles, authors, Year-Of-Publication,Publisher,Image-URL-S,Image-URL-M,Image-URL-L  The books' attributes will serve as key factors in understanding their content and theme.\n",
    "\n",
    "**Users Dataset:** In this dataset, we have information about the users,This includes user IDs, demographic information, and Age that help us understand their reading preferences and interests.\n",
    "\n",
    "**Ratings Dataset:** The ratings dataset encompasses user ratings and reviews for different books. This information provides insights into how much a particular user liked or disliked a book. This data is valuable in determining user preferences and gauging the popularity of books.\n"
   ]
  },
  {
   "cell_type": "markdown",
   "metadata": {
    "id": "XessdyZla7k_"
   },
   "source": [
    "##Import Libraries"
   ]
  },
  {
   "cell_type": "code",
   "execution_count": 1,
   "metadata": {
    "id": "ApFyE26hSdad"
   },
   "outputs": [],
   "source": [
    "import pandas as pd\n",
    "import numpy as np\n",
    "import matplotlib.pyplot as plt\n",
    "import seaborn as sns"
   ]
  },
  {
   "cell_type": "code",
   "execution_count": 2,
   "metadata": {
    "colab": {
     "base_uri": "https://localhost:8080/"
    },
    "id": "jhVLZT-EYn2a",
    "outputId": "6ef0b617-5b28-4346-cde2-40dba36c3737"
   },
   "outputs": [],
   "source": [
    "#from google.colab import drive\n",
    "#drive.mount('/content/drive')"
   ]
  },
  {
   "cell_type": "markdown",
   "metadata": {
    "id": "qDU_ueYUj_4c"
   },
   "source": [
    "here's an issue with decoding the text data using the UTF-8 encoding,specifying the encoding Solve the problem."
   ]
  },
  {
   "cell_type": "code",
   "execution_count": 3,
   "metadata": {
    "colab": {
     "base_uri": "https://localhost:8080/"
    },
    "id": "G5UBUNdziKY-",
    "outputId": "10c30ced-1056-4875-d25a-29cb70e44ce9"
   },
   "outputs": [
    {
     "name": "stderr",
     "output_type": "stream",
     "text": [
      "C:\\Users\\simra\\AppData\\Local\\Temp\\ipykernel_14268\\2116611802.py:1: DtypeWarning: Columns (3) have mixed types. Specify dtype option on import or set low_memory=False.\n",
      "  books_df=pd.read_csv(r'C:\\Users\\simra\\OneDrive\\Desktop\\DA+DS  2023\\DATA SCIENCE PROJECT\\PYTHON PROJECT\\Book recomendation\\Books.csv',encoding='ISO-8859-1')\n"
     ]
    }
   ],
   "source": [
    "books_df=pd.read_csv(r'C:\\Users\\simra\\OneDrive\\Desktop\\DA+DS  2023\\DATA SCIENCE PROJECT\\PYTHON PROJECT\\Book recomendation\\Books.csv',encoding='ISO-8859-1')\n",
    "ratings_df=pd.read_csv(r'C:\\Users\\simra\\OneDrive\\Desktop\\DA+DS  2023\\DATA SCIENCE PROJECT\\PYTHON PROJECT\\Book recomendation\\Ratings.csv')\n",
    "users_df=pd.read_csv(r'C:\\Users\\simra\\OneDrive\\Desktop\\DA+DS  2023\\DATA SCIENCE PROJECT\\PYTHON PROJECT\\Book recomendation\\Users.csv')"
   ]
  },
  {
   "cell_type": "markdown",
   "metadata": {
    "id": "VulK4JVPUanj"
   },
   "source": []
  },
  {
   "cell_type": "code",
   "execution_count": 4,
   "metadata": {
    "colab": {
     "base_uri": "https://localhost:8080/",
     "height": 434
    },
    "id": "UDI0B4ENj_AV",
    "outputId": "5eee35a1-dc87-4015-e5be-5e1cbd7bf54d"
   },
   "outputs": [
    {
     "data": {
      "text/html": [
       "<div>\n",
       "<style scoped>\n",
       "    .dataframe tbody tr th:only-of-type {\n",
       "        vertical-align: middle;\n",
       "    }\n",
       "\n",
       "    .dataframe tbody tr th {\n",
       "        vertical-align: top;\n",
       "    }\n",
       "\n",
       "    .dataframe thead th {\n",
       "        text-align: right;\n",
       "    }\n",
       "</style>\n",
       "<table border=\"1\" class=\"dataframe\">\n",
       "  <thead>\n",
       "    <tr style=\"text-align: right;\">\n",
       "      <th></th>\n",
       "      <th>ISBN</th>\n",
       "      <th>Book-Title</th>\n",
       "      <th>Book-Author</th>\n",
       "      <th>Year-Of-Publication</th>\n",
       "      <th>Publisher</th>\n",
       "      <th>Image-URL-S</th>\n",
       "      <th>Image-URL-M</th>\n",
       "      <th>Image-URL-L</th>\n",
       "    </tr>\n",
       "  </thead>\n",
       "  <tbody>\n",
       "    <tr>\n",
       "      <th>0</th>\n",
       "      <td>0195153448</td>\n",
       "      <td>Classical Mythology</td>\n",
       "      <td>Mark P. O. Morford</td>\n",
       "      <td>2002</td>\n",
       "      <td>Oxford University Press</td>\n",
       "      <td>http://images.amazon.com/images/P/0195153448.0...</td>\n",
       "      <td>http://images.amazon.com/images/P/0195153448.0...</td>\n",
       "      <td>http://images.amazon.com/images/P/0195153448.0...</td>\n",
       "    </tr>\n",
       "    <tr>\n",
       "      <th>1</th>\n",
       "      <td>0002005018</td>\n",
       "      <td>Clara Callan</td>\n",
       "      <td>Richard Bruce Wright</td>\n",
       "      <td>2001</td>\n",
       "      <td>HarperFlamingo Canada</td>\n",
       "      <td>http://images.amazon.com/images/P/0002005018.0...</td>\n",
       "      <td>http://images.amazon.com/images/P/0002005018.0...</td>\n",
       "      <td>http://images.amazon.com/images/P/0002005018.0...</td>\n",
       "    </tr>\n",
       "    <tr>\n",
       "      <th>2</th>\n",
       "      <td>0060973129</td>\n",
       "      <td>Decision in Normandy</td>\n",
       "      <td>Carlo D'Este</td>\n",
       "      <td>1991</td>\n",
       "      <td>HarperPerennial</td>\n",
       "      <td>http://images.amazon.com/images/P/0060973129.0...</td>\n",
       "      <td>http://images.amazon.com/images/P/0060973129.0...</td>\n",
       "      <td>http://images.amazon.com/images/P/0060973129.0...</td>\n",
       "    </tr>\n",
       "    <tr>\n",
       "      <th>3</th>\n",
       "      <td>0374157065</td>\n",
       "      <td>Flu: The Story of the Great Influenza Pandemic...</td>\n",
       "      <td>Gina Bari Kolata</td>\n",
       "      <td>1999</td>\n",
       "      <td>Farrar Straus Giroux</td>\n",
       "      <td>http://images.amazon.com/images/P/0374157065.0...</td>\n",
       "      <td>http://images.amazon.com/images/P/0374157065.0...</td>\n",
       "      <td>http://images.amazon.com/images/P/0374157065.0...</td>\n",
       "    </tr>\n",
       "    <tr>\n",
       "      <th>4</th>\n",
       "      <td>0393045218</td>\n",
       "      <td>The Mummies of Urumchi</td>\n",
       "      <td>E. J. W. Barber</td>\n",
       "      <td>1999</td>\n",
       "      <td>W. W. Norton &amp;amp; Company</td>\n",
       "      <td>http://images.amazon.com/images/P/0393045218.0...</td>\n",
       "      <td>http://images.amazon.com/images/P/0393045218.0...</td>\n",
       "      <td>http://images.amazon.com/images/P/0393045218.0...</td>\n",
       "    </tr>\n",
       "  </tbody>\n",
       "</table>\n",
       "</div>"
      ],
      "text/plain": [
       "         ISBN                                         Book-Title  \\\n",
       "0  0195153448                                Classical Mythology   \n",
       "1  0002005018                                       Clara Callan   \n",
       "2  0060973129                               Decision in Normandy   \n",
       "3  0374157065  Flu: The Story of the Great Influenza Pandemic...   \n",
       "4  0393045218                             The Mummies of Urumchi   \n",
       "\n",
       "            Book-Author Year-Of-Publication                   Publisher  \\\n",
       "0    Mark P. O. Morford                2002     Oxford University Press   \n",
       "1  Richard Bruce Wright                2001       HarperFlamingo Canada   \n",
       "2          Carlo D'Este                1991             HarperPerennial   \n",
       "3      Gina Bari Kolata                1999        Farrar Straus Giroux   \n",
       "4       E. J. W. Barber                1999  W. W. Norton &amp; Company   \n",
       "\n",
       "                                         Image-URL-S  \\\n",
       "0  http://images.amazon.com/images/P/0195153448.0...   \n",
       "1  http://images.amazon.com/images/P/0002005018.0...   \n",
       "2  http://images.amazon.com/images/P/0060973129.0...   \n",
       "3  http://images.amazon.com/images/P/0374157065.0...   \n",
       "4  http://images.amazon.com/images/P/0393045218.0...   \n",
       "\n",
       "                                         Image-URL-M  \\\n",
       "0  http://images.amazon.com/images/P/0195153448.0...   \n",
       "1  http://images.amazon.com/images/P/0002005018.0...   \n",
       "2  http://images.amazon.com/images/P/0060973129.0...   \n",
       "3  http://images.amazon.com/images/P/0374157065.0...   \n",
       "4  http://images.amazon.com/images/P/0393045218.0...   \n",
       "\n",
       "                                         Image-URL-L  \n",
       "0  http://images.amazon.com/images/P/0195153448.0...  \n",
       "1  http://images.amazon.com/images/P/0002005018.0...  \n",
       "2  http://images.amazon.com/images/P/0060973129.0...  \n",
       "3  http://images.amazon.com/images/P/0374157065.0...  \n",
       "4  http://images.amazon.com/images/P/0393045218.0...  "
      ]
     },
     "execution_count": 4,
     "metadata": {},
     "output_type": "execute_result"
    }
   ],
   "source": [
    "books_df.head()\n"
   ]
  },
  {
   "cell_type": "code",
   "execution_count": 5,
   "metadata": {
    "colab": {
     "base_uri": "https://localhost:8080/",
     "height": 206
    },
    "id": "G0pMTxkfk2jr",
    "outputId": "64fea528-06ce-49de-9172-294e3b8dc310"
   },
   "outputs": [
    {
     "data": {
      "text/html": [
       "<div>\n",
       "<style scoped>\n",
       "    .dataframe tbody tr th:only-of-type {\n",
       "        vertical-align: middle;\n",
       "    }\n",
       "\n",
       "    .dataframe tbody tr th {\n",
       "        vertical-align: top;\n",
       "    }\n",
       "\n",
       "    .dataframe thead th {\n",
       "        text-align: right;\n",
       "    }\n",
       "</style>\n",
       "<table border=\"1\" class=\"dataframe\">\n",
       "  <thead>\n",
       "    <tr style=\"text-align: right;\">\n",
       "      <th></th>\n",
       "      <th>User-ID</th>\n",
       "      <th>ISBN</th>\n",
       "      <th>Book-Rating</th>\n",
       "    </tr>\n",
       "  </thead>\n",
       "  <tbody>\n",
       "    <tr>\n",
       "      <th>0</th>\n",
       "      <td>276725</td>\n",
       "      <td>034545104X</td>\n",
       "      <td>0</td>\n",
       "    </tr>\n",
       "    <tr>\n",
       "      <th>1</th>\n",
       "      <td>276726</td>\n",
       "      <td>0155061224</td>\n",
       "      <td>5</td>\n",
       "    </tr>\n",
       "    <tr>\n",
       "      <th>2</th>\n",
       "      <td>276727</td>\n",
       "      <td>0446520802</td>\n",
       "      <td>0</td>\n",
       "    </tr>\n",
       "    <tr>\n",
       "      <th>3</th>\n",
       "      <td>276729</td>\n",
       "      <td>052165615X</td>\n",
       "      <td>3</td>\n",
       "    </tr>\n",
       "    <tr>\n",
       "      <th>4</th>\n",
       "      <td>276729</td>\n",
       "      <td>0521795028</td>\n",
       "      <td>6</td>\n",
       "    </tr>\n",
       "  </tbody>\n",
       "</table>\n",
       "</div>"
      ],
      "text/plain": [
       "   User-ID        ISBN  Book-Rating\n",
       "0   276725  034545104X            0\n",
       "1   276726  0155061224            5\n",
       "2   276727  0446520802            0\n",
       "3   276729  052165615X            3\n",
       "4   276729  0521795028            6"
      ]
     },
     "execution_count": 5,
     "metadata": {},
     "output_type": "execute_result"
    }
   ],
   "source": [
    "ratings_df.head()\n"
   ]
  },
  {
   "cell_type": "code",
   "execution_count": 6,
   "metadata": {
    "colab": {
     "base_uri": "https://localhost:8080/",
     "height": 206
    },
    "id": "JzCJptKTlRzS",
    "outputId": "12aa1e55-a636-4c71-b13e-75b4c22d5ff8"
   },
   "outputs": [
    {
     "data": {
      "text/html": [
       "<div>\n",
       "<style scoped>\n",
       "    .dataframe tbody tr th:only-of-type {\n",
       "        vertical-align: middle;\n",
       "    }\n",
       "\n",
       "    .dataframe tbody tr th {\n",
       "        vertical-align: top;\n",
       "    }\n",
       "\n",
       "    .dataframe thead th {\n",
       "        text-align: right;\n",
       "    }\n",
       "</style>\n",
       "<table border=\"1\" class=\"dataframe\">\n",
       "  <thead>\n",
       "    <tr style=\"text-align: right;\">\n",
       "      <th></th>\n",
       "      <th>User-ID</th>\n",
       "      <th>Location</th>\n",
       "      <th>Age</th>\n",
       "    </tr>\n",
       "  </thead>\n",
       "  <tbody>\n",
       "    <tr>\n",
       "      <th>0</th>\n",
       "      <td>1</td>\n",
       "      <td>nyc, new york, usa</td>\n",
       "      <td>NaN</td>\n",
       "    </tr>\n",
       "    <tr>\n",
       "      <th>1</th>\n",
       "      <td>2</td>\n",
       "      <td>stockton, california, usa</td>\n",
       "      <td>18.0</td>\n",
       "    </tr>\n",
       "    <tr>\n",
       "      <th>2</th>\n",
       "      <td>3</td>\n",
       "      <td>moscow, yukon territory, russia</td>\n",
       "      <td>NaN</td>\n",
       "    </tr>\n",
       "    <tr>\n",
       "      <th>3</th>\n",
       "      <td>4</td>\n",
       "      <td>porto, v.n.gaia, portugal</td>\n",
       "      <td>17.0</td>\n",
       "    </tr>\n",
       "    <tr>\n",
       "      <th>4</th>\n",
       "      <td>5</td>\n",
       "      <td>farnborough, hants, united kingdom</td>\n",
       "      <td>NaN</td>\n",
       "    </tr>\n",
       "  </tbody>\n",
       "</table>\n",
       "</div>"
      ],
      "text/plain": [
       "   User-ID                            Location   Age\n",
       "0        1                  nyc, new york, usa   NaN\n",
       "1        2           stockton, california, usa  18.0\n",
       "2        3     moscow, yukon territory, russia   NaN\n",
       "3        4           porto, v.n.gaia, portugal  17.0\n",
       "4        5  farnborough, hants, united kingdom   NaN"
      ]
     },
     "execution_count": 6,
     "metadata": {},
     "output_type": "execute_result"
    }
   ],
   "source": [
    "users_df.head()\n"
   ]
  },
  {
   "cell_type": "markdown",
   "metadata": {
    "id": "d954idLAnNnm"
   },
   "source": [
    "# Merge relevant information\n",
    "##Assuming 'ISBN' is the common identifier between the Books & Ratings datasets\n",
    "##Assuming 'User-ID' is the common identifier between the User & Merged datasets\n"
   ]
  },
  {
   "cell_type": "code",
   "execution_count": 7,
   "metadata": {
    "id": "WxB-hX14m4ts"
   },
   "outputs": [],
   "source": [
    "merged1_df=ratings_df.merge(books_df,on='ISBN')"
   ]
  },
  {
   "cell_type": "code",
   "execution_count": 8,
   "metadata": {
    "colab": {
     "base_uri": "https://localhost:8080/",
     "height": 504
    },
    "id": "XPe81a1CodJU",
    "outputId": "673da10c-828d-4e05-92f9-068dd06759c1"
   },
   "outputs": [
    {
     "data": {
      "text/html": [
       "<div>\n",
       "<style scoped>\n",
       "    .dataframe tbody tr th:only-of-type {\n",
       "        vertical-align: middle;\n",
       "    }\n",
       "\n",
       "    .dataframe tbody tr th {\n",
       "        vertical-align: top;\n",
       "    }\n",
       "\n",
       "    .dataframe thead th {\n",
       "        text-align: right;\n",
       "    }\n",
       "</style>\n",
       "<table border=\"1\" class=\"dataframe\">\n",
       "  <thead>\n",
       "    <tr style=\"text-align: right;\">\n",
       "      <th></th>\n",
       "      <th>User-ID</th>\n",
       "      <th>ISBN</th>\n",
       "      <th>Book-Rating</th>\n",
       "      <th>Book-Title</th>\n",
       "      <th>Book-Author</th>\n",
       "      <th>Year-Of-Publication</th>\n",
       "      <th>Publisher</th>\n",
       "      <th>Image-URL-S</th>\n",
       "      <th>Image-URL-M</th>\n",
       "      <th>Image-URL-L</th>\n",
       "    </tr>\n",
       "  </thead>\n",
       "  <tbody>\n",
       "    <tr>\n",
       "      <th>0</th>\n",
       "      <td>276725</td>\n",
       "      <td>034545104X</td>\n",
       "      <td>0</td>\n",
       "      <td>Flesh Tones: A Novel</td>\n",
       "      <td>M. J. Rose</td>\n",
       "      <td>2002</td>\n",
       "      <td>Ballantine Books</td>\n",
       "      <td>http://images.amazon.com/images/P/034545104X.0...</td>\n",
       "      <td>http://images.amazon.com/images/P/034545104X.0...</td>\n",
       "      <td>http://images.amazon.com/images/P/034545104X.0...</td>\n",
       "    </tr>\n",
       "    <tr>\n",
       "      <th>1</th>\n",
       "      <td>2313</td>\n",
       "      <td>034545104X</td>\n",
       "      <td>5</td>\n",
       "      <td>Flesh Tones: A Novel</td>\n",
       "      <td>M. J. Rose</td>\n",
       "      <td>2002</td>\n",
       "      <td>Ballantine Books</td>\n",
       "      <td>http://images.amazon.com/images/P/034545104X.0...</td>\n",
       "      <td>http://images.amazon.com/images/P/034545104X.0...</td>\n",
       "      <td>http://images.amazon.com/images/P/034545104X.0...</td>\n",
       "    </tr>\n",
       "    <tr>\n",
       "      <th>2</th>\n",
       "      <td>6543</td>\n",
       "      <td>034545104X</td>\n",
       "      <td>0</td>\n",
       "      <td>Flesh Tones: A Novel</td>\n",
       "      <td>M. J. Rose</td>\n",
       "      <td>2002</td>\n",
       "      <td>Ballantine Books</td>\n",
       "      <td>http://images.amazon.com/images/P/034545104X.0...</td>\n",
       "      <td>http://images.amazon.com/images/P/034545104X.0...</td>\n",
       "      <td>http://images.amazon.com/images/P/034545104X.0...</td>\n",
       "    </tr>\n",
       "    <tr>\n",
       "      <th>3</th>\n",
       "      <td>8680</td>\n",
       "      <td>034545104X</td>\n",
       "      <td>5</td>\n",
       "      <td>Flesh Tones: A Novel</td>\n",
       "      <td>M. J. Rose</td>\n",
       "      <td>2002</td>\n",
       "      <td>Ballantine Books</td>\n",
       "      <td>http://images.amazon.com/images/P/034545104X.0...</td>\n",
       "      <td>http://images.amazon.com/images/P/034545104X.0...</td>\n",
       "      <td>http://images.amazon.com/images/P/034545104X.0...</td>\n",
       "    </tr>\n",
       "    <tr>\n",
       "      <th>4</th>\n",
       "      <td>10314</td>\n",
       "      <td>034545104X</td>\n",
       "      <td>9</td>\n",
       "      <td>Flesh Tones: A Novel</td>\n",
       "      <td>M. J. Rose</td>\n",
       "      <td>2002</td>\n",
       "      <td>Ballantine Books</td>\n",
       "      <td>http://images.amazon.com/images/P/034545104X.0...</td>\n",
       "      <td>http://images.amazon.com/images/P/034545104X.0...</td>\n",
       "      <td>http://images.amazon.com/images/P/034545104X.0...</td>\n",
       "    </tr>\n",
       "  </tbody>\n",
       "</table>\n",
       "</div>"
      ],
      "text/plain": [
       "   User-ID        ISBN  Book-Rating            Book-Title Book-Author  \\\n",
       "0   276725  034545104X            0  Flesh Tones: A Novel  M. J. Rose   \n",
       "1     2313  034545104X            5  Flesh Tones: A Novel  M. J. Rose   \n",
       "2     6543  034545104X            0  Flesh Tones: A Novel  M. J. Rose   \n",
       "3     8680  034545104X            5  Flesh Tones: A Novel  M. J. Rose   \n",
       "4    10314  034545104X            9  Flesh Tones: A Novel  M. J. Rose   \n",
       "\n",
       "  Year-Of-Publication         Publisher  \\\n",
       "0                2002  Ballantine Books   \n",
       "1                2002  Ballantine Books   \n",
       "2                2002  Ballantine Books   \n",
       "3                2002  Ballantine Books   \n",
       "4                2002  Ballantine Books   \n",
       "\n",
       "                                         Image-URL-S  \\\n",
       "0  http://images.amazon.com/images/P/034545104X.0...   \n",
       "1  http://images.amazon.com/images/P/034545104X.0...   \n",
       "2  http://images.amazon.com/images/P/034545104X.0...   \n",
       "3  http://images.amazon.com/images/P/034545104X.0...   \n",
       "4  http://images.amazon.com/images/P/034545104X.0...   \n",
       "\n",
       "                                         Image-URL-M  \\\n",
       "0  http://images.amazon.com/images/P/034545104X.0...   \n",
       "1  http://images.amazon.com/images/P/034545104X.0...   \n",
       "2  http://images.amazon.com/images/P/034545104X.0...   \n",
       "3  http://images.amazon.com/images/P/034545104X.0...   \n",
       "4  http://images.amazon.com/images/P/034545104X.0...   \n",
       "\n",
       "                                         Image-URL-L  \n",
       "0  http://images.amazon.com/images/P/034545104X.0...  \n",
       "1  http://images.amazon.com/images/P/034545104X.0...  \n",
       "2  http://images.amazon.com/images/P/034545104X.0...  \n",
       "3  http://images.amazon.com/images/P/034545104X.0...  \n",
       "4  http://images.amazon.com/images/P/034545104X.0...  "
      ]
     },
     "execution_count": 8,
     "metadata": {},
     "output_type": "execute_result"
    }
   ],
   "source": [
    "merged1_df.head()"
   ]
  },
  {
   "cell_type": "code",
   "execution_count": 9,
   "metadata": {
    "id": "2eOB-WjhohfP"
   },
   "outputs": [],
   "source": [
    "merged2_df=merged1_df.merge(users_df,on='User-ID')"
   ]
  },
  {
   "cell_type": "code",
   "execution_count": 10,
   "metadata": {
    "colab": {
     "base_uri": "https://localhost:8080/",
     "height": 504
    },
    "id": "gBnv0KqhprEx",
    "outputId": "176d8b18-c210-4169-ba94-b05dc4c94c90"
   },
   "outputs": [
    {
     "data": {
      "text/html": [
       "<div>\n",
       "<style scoped>\n",
       "    .dataframe tbody tr th:only-of-type {\n",
       "        vertical-align: middle;\n",
       "    }\n",
       "\n",
       "    .dataframe tbody tr th {\n",
       "        vertical-align: top;\n",
       "    }\n",
       "\n",
       "    .dataframe thead th {\n",
       "        text-align: right;\n",
       "    }\n",
       "</style>\n",
       "<table border=\"1\" class=\"dataframe\">\n",
       "  <thead>\n",
       "    <tr style=\"text-align: right;\">\n",
       "      <th></th>\n",
       "      <th>User-ID</th>\n",
       "      <th>ISBN</th>\n",
       "      <th>Book-Rating</th>\n",
       "      <th>Book-Title</th>\n",
       "      <th>Book-Author</th>\n",
       "      <th>Year-Of-Publication</th>\n",
       "      <th>Publisher</th>\n",
       "      <th>Image-URL-S</th>\n",
       "      <th>Image-URL-M</th>\n",
       "      <th>Image-URL-L</th>\n",
       "      <th>Location</th>\n",
       "      <th>Age</th>\n",
       "    </tr>\n",
       "  </thead>\n",
       "  <tbody>\n",
       "    <tr>\n",
       "      <th>0</th>\n",
       "      <td>276725</td>\n",
       "      <td>034545104X</td>\n",
       "      <td>0</td>\n",
       "      <td>Flesh Tones: A Novel</td>\n",
       "      <td>M. J. Rose</td>\n",
       "      <td>2002</td>\n",
       "      <td>Ballantine Books</td>\n",
       "      <td>http://images.amazon.com/images/P/034545104X.0...</td>\n",
       "      <td>http://images.amazon.com/images/P/034545104X.0...</td>\n",
       "      <td>http://images.amazon.com/images/P/034545104X.0...</td>\n",
       "      <td>tyler, texas, usa</td>\n",
       "      <td>NaN</td>\n",
       "    </tr>\n",
       "    <tr>\n",
       "      <th>1</th>\n",
       "      <td>2313</td>\n",
       "      <td>034545104X</td>\n",
       "      <td>5</td>\n",
       "      <td>Flesh Tones: A Novel</td>\n",
       "      <td>M. J. Rose</td>\n",
       "      <td>2002</td>\n",
       "      <td>Ballantine Books</td>\n",
       "      <td>http://images.amazon.com/images/P/034545104X.0...</td>\n",
       "      <td>http://images.amazon.com/images/P/034545104X.0...</td>\n",
       "      <td>http://images.amazon.com/images/P/034545104X.0...</td>\n",
       "      <td>cincinnati, ohio, usa</td>\n",
       "      <td>23.0</td>\n",
       "    </tr>\n",
       "    <tr>\n",
       "      <th>2</th>\n",
       "      <td>2313</td>\n",
       "      <td>0812533550</td>\n",
       "      <td>9</td>\n",
       "      <td>Ender's Game (Ender Wiggins Saga (Paperback))</td>\n",
       "      <td>Orson Scott Card</td>\n",
       "      <td>1986</td>\n",
       "      <td>Tor Books</td>\n",
       "      <td>http://images.amazon.com/images/P/0812533550.0...</td>\n",
       "      <td>http://images.amazon.com/images/P/0812533550.0...</td>\n",
       "      <td>http://images.amazon.com/images/P/0812533550.0...</td>\n",
       "      <td>cincinnati, ohio, usa</td>\n",
       "      <td>23.0</td>\n",
       "    </tr>\n",
       "    <tr>\n",
       "      <th>3</th>\n",
       "      <td>2313</td>\n",
       "      <td>0679745580</td>\n",
       "      <td>8</td>\n",
       "      <td>In Cold Blood (Vintage International)</td>\n",
       "      <td>TRUMAN CAPOTE</td>\n",
       "      <td>1994</td>\n",
       "      <td>Vintage</td>\n",
       "      <td>http://images.amazon.com/images/P/0679745580.0...</td>\n",
       "      <td>http://images.amazon.com/images/P/0679745580.0...</td>\n",
       "      <td>http://images.amazon.com/images/P/0679745580.0...</td>\n",
       "      <td>cincinnati, ohio, usa</td>\n",
       "      <td>23.0</td>\n",
       "    </tr>\n",
       "    <tr>\n",
       "      <th>4</th>\n",
       "      <td>2313</td>\n",
       "      <td>0060173289</td>\n",
       "      <td>9</td>\n",
       "      <td>Divine Secrets of the Ya-Ya Sisterhood : A Novel</td>\n",
       "      <td>Rebecca Wells</td>\n",
       "      <td>1996</td>\n",
       "      <td>HarperCollins</td>\n",
       "      <td>http://images.amazon.com/images/P/0060173289.0...</td>\n",
       "      <td>http://images.amazon.com/images/P/0060173289.0...</td>\n",
       "      <td>http://images.amazon.com/images/P/0060173289.0...</td>\n",
       "      <td>cincinnati, ohio, usa</td>\n",
       "      <td>23.0</td>\n",
       "    </tr>\n",
       "  </tbody>\n",
       "</table>\n",
       "</div>"
      ],
      "text/plain": [
       "   User-ID        ISBN  Book-Rating  \\\n",
       "0   276725  034545104X            0   \n",
       "1     2313  034545104X            5   \n",
       "2     2313  0812533550            9   \n",
       "3     2313  0679745580            8   \n",
       "4     2313  0060173289            9   \n",
       "\n",
       "                                         Book-Title       Book-Author  \\\n",
       "0                              Flesh Tones: A Novel        M. J. Rose   \n",
       "1                              Flesh Tones: A Novel        M. J. Rose   \n",
       "2     Ender's Game (Ender Wiggins Saga (Paperback))  Orson Scott Card   \n",
       "3             In Cold Blood (Vintage International)     TRUMAN CAPOTE   \n",
       "4  Divine Secrets of the Ya-Ya Sisterhood : A Novel     Rebecca Wells   \n",
       "\n",
       "  Year-Of-Publication         Publisher  \\\n",
       "0                2002  Ballantine Books   \n",
       "1                2002  Ballantine Books   \n",
       "2                1986         Tor Books   \n",
       "3                1994           Vintage   \n",
       "4                1996     HarperCollins   \n",
       "\n",
       "                                         Image-URL-S  \\\n",
       "0  http://images.amazon.com/images/P/034545104X.0...   \n",
       "1  http://images.amazon.com/images/P/034545104X.0...   \n",
       "2  http://images.amazon.com/images/P/0812533550.0...   \n",
       "3  http://images.amazon.com/images/P/0679745580.0...   \n",
       "4  http://images.amazon.com/images/P/0060173289.0...   \n",
       "\n",
       "                                         Image-URL-M  \\\n",
       "0  http://images.amazon.com/images/P/034545104X.0...   \n",
       "1  http://images.amazon.com/images/P/034545104X.0...   \n",
       "2  http://images.amazon.com/images/P/0812533550.0...   \n",
       "3  http://images.amazon.com/images/P/0679745580.0...   \n",
       "4  http://images.amazon.com/images/P/0060173289.0...   \n",
       "\n",
       "                                         Image-URL-L               Location  \\\n",
       "0  http://images.amazon.com/images/P/034545104X.0...      tyler, texas, usa   \n",
       "1  http://images.amazon.com/images/P/034545104X.0...  cincinnati, ohio, usa   \n",
       "2  http://images.amazon.com/images/P/0812533550.0...  cincinnati, ohio, usa   \n",
       "3  http://images.amazon.com/images/P/0679745580.0...  cincinnati, ohio, usa   \n",
       "4  http://images.amazon.com/images/P/0060173289.0...  cincinnati, ohio, usa   \n",
       "\n",
       "    Age  \n",
       "0   NaN  \n",
       "1  23.0  \n",
       "2  23.0  \n",
       "3  23.0  \n",
       "4  23.0  "
      ]
     },
     "execution_count": 10,
     "metadata": {},
     "output_type": "execute_result"
    }
   ],
   "source": [
    "merged2_df.head()"
   ]
  },
  {
   "cell_type": "markdown",
   "metadata": {
    "id": "lq6B2HYrqtRe"
   },
   "source": [
    "##EDA\n",
    "EDA, or Exploratory Data Analysis, is a crucial step in understanding the data before building a predictive model. It involves exploring the dataset, calculating summary statistics, visualizing the data, detecting seasonality, analyzing correlations, identifying outliers, handling missing data, and identifying opportunities for feature engineering. EDA helps gain insights, detect patterns, and make informed decisions based on the data."
   ]
  },
  {
   "cell_type": "code",
   "execution_count": 11,
   "metadata": {
    "id": "YGuhcT2mNNKK"
   },
   "outputs": [],
   "source": [
    "merged2_df.drop(['Image-URL-S', 'Image-URL-M', 'Image-URL-L'], axis=1, inplace=True)\n",
    "merged2_df.columns = merged2_df.columns.str.strip().str.lower().str.replace('-', '_')\n"
   ]
  },
  {
   "cell_type": "code",
   "execution_count": 12,
   "metadata": {
    "colab": {
     "base_uri": "https://localhost:8080/"
    },
    "id": "_I_IouCipt_3",
    "outputId": "18c9a6d4-d9c9-4769-fed0-2e444a24b480"
   },
   "outputs": [
    {
     "name": "stdout",
     "output_type": "stream",
     "text": [
      "<class 'pandas.core.frame.DataFrame'>\n",
      "Int64Index: 1031136 entries, 0 to 1031135\n",
      "Data columns (total 9 columns):\n",
      " #   Column               Non-Null Count    Dtype  \n",
      "---  ------               --------------    -----  \n",
      " 0   user_id              1031136 non-null  int64  \n",
      " 1   isbn                 1031136 non-null  object \n",
      " 2   book_rating          1031136 non-null  int64  \n",
      " 3   book_title           1031136 non-null  object \n",
      " 4   book_author          1031135 non-null  object \n",
      " 5   year_of_publication  1031136 non-null  object \n",
      " 6   publisher            1031134 non-null  object \n",
      " 7   location             1031136 non-null  object \n",
      " 8   age                  753301 non-null   float64\n",
      "dtypes: float64(1), int64(2), object(6)\n",
      "memory usage: 78.7+ MB\n"
     ]
    }
   ],
   "source": [
    "merged2_df.info()"
   ]
  },
  {
   "cell_type": "code",
   "execution_count": 13,
   "metadata": {
    "colab": {
     "base_uri": "https://localhost:8080/",
     "height": 300
    },
    "id": "hpPWMWkJq1k7",
    "outputId": "699f282a-8349-407f-dfd9-b743911dbad1"
   },
   "outputs": [
    {
     "data": {
      "text/html": [
       "<div>\n",
       "<style scoped>\n",
       "    .dataframe tbody tr th:only-of-type {\n",
       "        vertical-align: middle;\n",
       "    }\n",
       "\n",
       "    .dataframe tbody tr th {\n",
       "        vertical-align: top;\n",
       "    }\n",
       "\n",
       "    .dataframe thead th {\n",
       "        text-align: right;\n",
       "    }\n",
       "</style>\n",
       "<table border=\"1\" class=\"dataframe\">\n",
       "  <thead>\n",
       "    <tr style=\"text-align: right;\">\n",
       "      <th></th>\n",
       "      <th>user_id</th>\n",
       "      <th>book_rating</th>\n",
       "      <th>age</th>\n",
       "    </tr>\n",
       "  </thead>\n",
       "  <tbody>\n",
       "    <tr>\n",
       "      <th>count</th>\n",
       "      <td>1.031136e+06</td>\n",
       "      <td>1.031136e+06</td>\n",
       "      <td>753301.000000</td>\n",
       "    </tr>\n",
       "    <tr>\n",
       "      <th>mean</th>\n",
       "      <td>1.405945e+05</td>\n",
       "      <td>2.839051e+00</td>\n",
       "      <td>37.397648</td>\n",
       "    </tr>\n",
       "    <tr>\n",
       "      <th>std</th>\n",
       "      <td>8.052466e+04</td>\n",
       "      <td>3.854157e+00</td>\n",
       "      <td>14.098254</td>\n",
       "    </tr>\n",
       "    <tr>\n",
       "      <th>min</th>\n",
       "      <td>2.000000e+00</td>\n",
       "      <td>0.000000e+00</td>\n",
       "      <td>0.000000</td>\n",
       "    </tr>\n",
       "    <tr>\n",
       "      <th>25%</th>\n",
       "      <td>7.041500e+04</td>\n",
       "      <td>0.000000e+00</td>\n",
       "      <td>28.000000</td>\n",
       "    </tr>\n",
       "    <tr>\n",
       "      <th>50%</th>\n",
       "      <td>1.412100e+05</td>\n",
       "      <td>0.000000e+00</td>\n",
       "      <td>35.000000</td>\n",
       "    </tr>\n",
       "    <tr>\n",
       "      <th>75%</th>\n",
       "      <td>2.114260e+05</td>\n",
       "      <td>7.000000e+00</td>\n",
       "      <td>45.000000</td>\n",
       "    </tr>\n",
       "    <tr>\n",
       "      <th>max</th>\n",
       "      <td>2.788540e+05</td>\n",
       "      <td>1.000000e+01</td>\n",
       "      <td>244.000000</td>\n",
       "    </tr>\n",
       "  </tbody>\n",
       "</table>\n",
       "</div>"
      ],
      "text/plain": [
       "            user_id   book_rating            age\n",
       "count  1.031136e+06  1.031136e+06  753301.000000\n",
       "mean   1.405945e+05  2.839051e+00      37.397648\n",
       "std    8.052466e+04  3.854157e+00      14.098254\n",
       "min    2.000000e+00  0.000000e+00       0.000000\n",
       "25%    7.041500e+04  0.000000e+00      28.000000\n",
       "50%    1.412100e+05  0.000000e+00      35.000000\n",
       "75%    2.114260e+05  7.000000e+00      45.000000\n",
       "max    2.788540e+05  1.000000e+01     244.000000"
      ]
     },
     "execution_count": 13,
     "metadata": {},
     "output_type": "execute_result"
    }
   ],
   "source": [
    "merged2_df.describe()"
   ]
  },
  {
   "cell_type": "code",
   "execution_count": 14,
   "metadata": {
    "colab": {
     "base_uri": "https://localhost:8080/"
    },
    "id": "HzmElg6XP_g-",
    "outputId": "95361201-1068-4738-ba39-bee97612850a"
   },
   "outputs": [
    {
     "name": "stderr",
     "output_type": "stream",
     "text": [
      "C:\\Users\\simra\\AppData\\Local\\Temp\\ipykernel_14268\\1135664777.py:1: FutureWarning: Passing a negative integer is deprecated in version 1.0 and will not be supported in future version. Instead, use None to not limit the column width.\n",
      "  pd.set_option('display.max_colwidth', -1)\n"
     ]
    },
    {
     "name": "stdout",
     "output_type": "stream",
     "text": [
      "<class 'pandas.core.frame.DataFrame'>\n",
      "Int64Index: 1031136 entries, 0 to 1031135\n",
      "Data columns (total 9 columns):\n",
      " #   Column               Non-Null Count    Dtype  \n",
      "---  ------               --------------    -----  \n",
      " 0   user_id              1031136 non-null  int64  \n",
      " 1   isbn                 1031136 non-null  object \n",
      " 2   book_rating          1031136 non-null  int64  \n",
      " 3   book_title           1031136 non-null  object \n",
      " 4   book_author          1031135 non-null  object \n",
      " 5   year_of_publication  1031136 non-null  object \n",
      " 6   publisher            1031134 non-null  object \n",
      " 7   location             1031136 non-null  object \n",
      " 8   age                  753301 non-null   float64\n",
      "dtypes: float64(1), int64(2), object(6)\n",
      "memory usage: 78.7+ MB\n"
     ]
    }
   ],
   "source": [
    "pd.set_option('display.max_colwidth', -1)\n",
    "merged2_df.info()\n"
   ]
  },
  {
   "cell_type": "code",
   "execution_count": 15,
   "metadata": {
    "colab": {
     "base_uri": "https://localhost:8080/",
     "height": 98
    },
    "id": "zS3xpQrsUyZl",
    "outputId": "1c544f3c-4af9-4070-9c16-736852f4d30d"
   },
   "outputs": [
    {
     "data": {
      "text/html": [
       "<div>\n",
       "<style scoped>\n",
       "    .dataframe tbody tr th:only-of-type {\n",
       "        vertical-align: middle;\n",
       "    }\n",
       "\n",
       "    .dataframe tbody tr th {\n",
       "        vertical-align: top;\n",
       "    }\n",
       "\n",
       "    .dataframe thead th {\n",
       "        text-align: right;\n",
       "    }\n",
       "</style>\n",
       "<table border=\"1\" class=\"dataframe\">\n",
       "  <thead>\n",
       "    <tr style=\"text-align: right;\">\n",
       "      <th></th>\n",
       "      <th>user_id</th>\n",
       "      <th>isbn</th>\n",
       "      <th>book_rating</th>\n",
       "      <th>book_title</th>\n",
       "      <th>book_author</th>\n",
       "      <th>year_of_publication</th>\n",
       "      <th>publisher</th>\n",
       "      <th>location</th>\n",
       "      <th>age</th>\n",
       "    </tr>\n",
       "  </thead>\n",
       "  <tbody>\n",
       "    <tr>\n",
       "      <th>486486</th>\n",
       "      <td>98647</td>\n",
       "      <td>9627982032</td>\n",
       "      <td>8</td>\n",
       "      <td>The Credit Suisse Guide to Managing Your Personal Wealth</td>\n",
       "      <td>NaN</td>\n",
       "      <td>1995</td>\n",
       "      <td>Edinburgh Financial Publishing</td>\n",
       "      <td>selayang, selangor, malaysia</td>\n",
       "      <td>26.0</td>\n",
       "    </tr>\n",
       "  </tbody>\n",
       "</table>\n",
       "</div>"
      ],
      "text/plain": [
       "        user_id        isbn  book_rating  \\\n",
       "486486  98647    9627982032  8             \n",
       "\n",
       "                                                      book_title book_author  \\\n",
       "486486  The Credit Suisse Guide to Managing Your Personal Wealth  NaN          \n",
       "\n",
       "       year_of_publication                       publisher  \\\n",
       "486486  1995                Edinburgh Financial Publishing   \n",
       "\n",
       "                            location   age  \n",
       "486486  selayang, selangor, malaysia  26.0  "
      ]
     },
     "execution_count": 15,
     "metadata": {},
     "output_type": "execute_result"
    }
   ],
   "source": [
    "\n",
    "merged2_df.loc[(merged2_df['book_author'].isnull()),: ]"
   ]
  },
  {
   "cell_type": "code",
   "execution_count": 16,
   "metadata": {
    "colab": {
     "base_uri": "https://localhost:8080/",
     "height": 112
    },
    "id": "i6-rr8VIU2tu",
    "outputId": "ffcbf2d8-1fed-4878-c4e8-0e2f8e0eb605"
   },
   "outputs": [
    {
     "data": {
      "text/html": [
       "<div>\n",
       "<style scoped>\n",
       "    .dataframe tbody tr th:only-of-type {\n",
       "        vertical-align: middle;\n",
       "    }\n",
       "\n",
       "    .dataframe tbody tr th {\n",
       "        vertical-align: top;\n",
       "    }\n",
       "\n",
       "    .dataframe thead th {\n",
       "        text-align: right;\n",
       "    }\n",
       "</style>\n",
       "<table border=\"1\" class=\"dataframe\">\n",
       "  <thead>\n",
       "    <tr style=\"text-align: right;\">\n",
       "      <th></th>\n",
       "      <th>user_id</th>\n",
       "      <th>isbn</th>\n",
       "      <th>book_rating</th>\n",
       "      <th>book_title</th>\n",
       "      <th>book_author</th>\n",
       "      <th>year_of_publication</th>\n",
       "      <th>publisher</th>\n",
       "      <th>location</th>\n",
       "      <th>age</th>\n",
       "    </tr>\n",
       "  </thead>\n",
       "  <tbody>\n",
       "    <tr>\n",
       "      <th>9777</th>\n",
       "      <td>98391</td>\n",
       "      <td>193169656X</td>\n",
       "      <td>9</td>\n",
       "      <td>Tyrant Moon</td>\n",
       "      <td>Elaine Corvidae</td>\n",
       "      <td>2002</td>\n",
       "      <td>NaN</td>\n",
       "      <td>morrow, georgia, usa</td>\n",
       "      <td>52.0</td>\n",
       "    </tr>\n",
       "    <tr>\n",
       "      <th>9786</th>\n",
       "      <td>98391</td>\n",
       "      <td>1931696993</td>\n",
       "      <td>9</td>\n",
       "      <td>Finders Keepers</td>\n",
       "      <td>Linnea Sinclair</td>\n",
       "      <td>2001</td>\n",
       "      <td>NaN</td>\n",
       "      <td>morrow, georgia, usa</td>\n",
       "      <td>52.0</td>\n",
       "    </tr>\n",
       "  </tbody>\n",
       "</table>\n",
       "</div>"
      ],
      "text/plain": [
       "      user_id        isbn  book_rating       book_title      book_author  \\\n",
       "9777  98391    193169656X  9            Tyrant Moon      Elaine Corvidae   \n",
       "9786  98391    1931696993  9            Finders Keepers  Linnea Sinclair   \n",
       "\n",
       "     year_of_publication publisher              location   age  \n",
       "9777  2002                NaN       morrow, georgia, usa  52.0  \n",
       "9786  2001                NaN       morrow, georgia, usa  52.0  "
      ]
     },
     "execution_count": 16,
     "metadata": {},
     "output_type": "execute_result"
    }
   ],
   "source": [
    "merged2_df.loc[(merged2_df['publisher'].isnull()),: ]"
   ]
  },
  {
   "cell_type": "markdown",
   "metadata": {
    "id": "3dTjsEf_eckY"
   },
   "source": [
    "#Identify the mismatch data\n"
   ]
  },
  {
   "cell_type": "code",
   "execution_count": 17,
   "metadata": {
    "colab": {
     "base_uri": "https://localhost:8080/"
    },
    "id": "7_WW2r7yWFOQ",
    "outputId": "352d01af-70c3-4687-bdb2-c333b2499cfb"
   },
   "outputs": [
    {
     "data": {
      "text/plain": [
       "array([2002, 1986, 1994, 1996, 1998, 2001, 1987, 1984, 1997, 1970, 1978,\n",
       "       1993, 1989, 1995, 1990, 1992, 1950, 1991, 1999, 1954, 1988, 2003,\n",
       "       2004, 2000, 1983, 1985, 1982, 1956, 1979, '2003', 1975, 0, 1976,\n",
       "       1981, 1977, 1980, 1974, 1957, 1958, 1960, 1963, 1969, 1972, 1961,\n",
       "       1971, 1953, 1968, 1973, 1967, 1962, 1937, 1959, '1998', '1981',\n",
       "       '0', '1979', '1993', '1994', '1992', '1978', '1989', '1999',\n",
       "       '1987', '1988', '1995', '1991', '1996', '2000', '1976', '2001',\n",
       "       '2002', '1983', '1997', '1986', '1985', 1955, 1946, '2004', 2005,\n",
       "       '1971', '1984', '1980', '1982', '1990', '1957', 1945, 1965, '1950',\n",
       "       1964, '1964', '1970', '1969', '1960', '1956', '1977', '1973', 1927,\n",
       "       2020, '1968', 2050, '1972', '1975', '1974', 1920, 1966, 1952,\n",
       "       '1965', '1963', 1930, '1962', '1952', 1940, '1967', 1942, 1947,\n",
       "       1925, '1966', 1948, '1958', 1923, 2030, 1951, 2021, 1941, 1932,\n",
       "       '1961', 2011, '1951', 1901, 2038, '1940', 1929, 1943, 1936, '1953',\n",
       "       '1959', 'DK Publishing Inc', 1928, '1936', '2011', '1932', '1954',\n",
       "       1939, '1944', 1938, '1920', '1955', 1902, 1900, '2005', '1941',\n",
       "       '1911', '2030', 1911, '1947', 1949, '1923', 1906, 1806, 1933, 1935,\n",
       "       1926, '1942', '1933', '1922', '1897', '1949', '1939', '1945', 2026,\n",
       "       '2006', '2037', 1924, 1921, '2024', '1948', '1900', '1946', '2020',\n",
       "       'Gallimard', '1930', '1926', '1927', '1943', '1924', '1378',\n",
       "       '2008', 2010, 1934, '1909', 1931, 1904, 1910, 1917, '2012', '1931',\n",
       "       1914, 1944, '1376', 1908, '1938', '1919'], dtype=object)"
      ]
     },
     "execution_count": 17,
     "metadata": {},
     "output_type": "execute_result"
    }
   ],
   "source": [
    "merged2_df['year_of_publication'].unique()"
   ]
  },
  {
   "cell_type": "code",
   "execution_count": 18,
   "metadata": {
    "colab": {
     "base_uri": "https://localhost:8080/"
    },
    "id": "L4lRNYdsW4WO",
    "outputId": "b88cc4db-4f4c-451d-c660-f19e7289dba3"
   },
   "outputs": [
    {
     "data": {
      "text/plain": [
       "array(['Ballantine Books', 'Tor Books', 'Vintage', ...,\n",
       "       'Zimbabwe Pub. House', 'Wipf &amp; Stock Publishers',\n",
       "       'C.F. MÃ¼ller'], dtype=object)"
      ]
     },
     "execution_count": 18,
     "metadata": {},
     "output_type": "execute_result"
    }
   ],
   "source": [
    "merged2_df['publisher'].unique()"
   ]
  },
  {
   "cell_type": "code",
   "execution_count": 19,
   "metadata": {
    "colab": {
     "base_uri": "https://localhost:8080/",
     "height": 351
    },
    "id": "5SiaLsBSZnCe",
    "outputId": "6b1210b8-4a89-47c7-971f-a284f290266f"
   },
   "outputs": [
    {
     "data": {
      "text/html": [
       "<div>\n",
       "<style scoped>\n",
       "    .dataframe tbody tr th:only-of-type {\n",
       "        vertical-align: middle;\n",
       "    }\n",
       "\n",
       "    .dataframe tbody tr th {\n",
       "        vertical-align: top;\n",
       "    }\n",
       "\n",
       "    .dataframe thead th {\n",
       "        text-align: right;\n",
       "    }\n",
       "</style>\n",
       "<table border=\"1\" class=\"dataframe\">\n",
       "  <thead>\n",
       "    <tr style=\"text-align: right;\">\n",
       "      <th></th>\n",
       "      <th>user_id</th>\n",
       "      <th>isbn</th>\n",
       "      <th>book_rating</th>\n",
       "      <th>book_title</th>\n",
       "      <th>book_author</th>\n",
       "      <th>year_of_publication</th>\n",
       "      <th>publisher</th>\n",
       "      <th>location</th>\n",
       "      <th>age</th>\n",
       "    </tr>\n",
       "  </thead>\n",
       "  <tbody>\n",
       "    <tr>\n",
       "      <th>85425</th>\n",
       "      <td>130571</td>\n",
       "      <td>0789466953</td>\n",
       "      <td>0</td>\n",
       "      <td>DK Readers: Creating the X-Men, How Comic Books Come to Life (Level 4: Proficient Readers)\\\";James Buckley\"</td>\n",
       "      <td>2000</td>\n",
       "      <td>DK Publishing Inc</td>\n",
       "      <td>http://images.amazon.com/images/P/0789466953.01.THUMBZZZ.jpg</td>\n",
       "      <td>summerville, south carolina, usa</td>\n",
       "      <td>NaN</td>\n",
       "    </tr>\n",
       "    <tr>\n",
       "      <th>346284</th>\n",
       "      <td>227771</td>\n",
       "      <td>078946697X</td>\n",
       "      <td>7</td>\n",
       "      <td>DK Readers: Creating the X-Men, How It All Began (Level 4: Proficient Readers)\\\";Michael Teitelbaum\"</td>\n",
       "      <td>2000</td>\n",
       "      <td>DK Publishing Inc</td>\n",
       "      <td>http://images.amazon.com/images/P/078946697X.01.THUMBZZZ.jpg</td>\n",
       "      <td>savion, n/a, israel</td>\n",
       "      <td>19.0</td>\n",
       "    </tr>\n",
       "    <tr>\n",
       "      <th>594299</th>\n",
       "      <td>169663</td>\n",
       "      <td>078946697X</td>\n",
       "      <td>0</td>\n",
       "      <td>DK Readers: Creating the X-Men, How It All Began (Level 4: Proficient Readers)\\\";Michael Teitelbaum\"</td>\n",
       "      <td>2000</td>\n",
       "      <td>DK Publishing Inc</td>\n",
       "      <td>http://images.amazon.com/images/P/078946697X.01.THUMBZZZ.jpg</td>\n",
       "      <td>towson, maryland, usa</td>\n",
       "      <td>NaN</td>\n",
       "    </tr>\n",
       "  </tbody>\n",
       "</table>\n",
       "</div>"
      ],
      "text/plain": [
       "        user_id        isbn  book_rating  \\\n",
       "85425   130571   0789466953  0             \n",
       "346284  227771   078946697X  7             \n",
       "594299  169663   078946697X  0             \n",
       "\n",
       "                                                                                                         book_title  \\\n",
       "85425   DK Readers: Creating the X-Men, How Comic Books Come to Life (Level 4: Proficient Readers)\\\";James Buckley\"   \n",
       "346284  DK Readers: Creating the X-Men, How It All Began (Level 4: Proficient Readers)\\\";Michael Teitelbaum\"          \n",
       "594299  DK Readers: Creating the X-Men, How It All Began (Level 4: Proficient Readers)\\\";Michael Teitelbaum\"          \n",
       "\n",
       "       book_author year_of_publication  \\\n",
       "85425   2000        DK Publishing Inc    \n",
       "346284  2000        DK Publishing Inc    \n",
       "594299  2000        DK Publishing Inc    \n",
       "\n",
       "                                                           publisher  \\\n",
       "85425   http://images.amazon.com/images/P/0789466953.01.THUMBZZZ.jpg   \n",
       "346284  http://images.amazon.com/images/P/078946697X.01.THUMBZZZ.jpg   \n",
       "594299  http://images.amazon.com/images/P/078946697X.01.THUMBZZZ.jpg   \n",
       "\n",
       "                                location   age  \n",
       "85425   summerville, south carolina, usa NaN    \n",
       "346284  savion, n/a, israel               19.0  \n",
       "594299  towson, maryland, usa            NaN    "
      ]
     },
     "execution_count": 19,
     "metadata": {},
     "output_type": "execute_result"
    }
   ],
   "source": [
    "\n",
    "merged2_df[merged2_df['year_of_publication'] == 'DK Publishing Inc']"
   ]
  },
  {
   "cell_type": "code",
   "execution_count": 20,
   "metadata": {
    "colab": {
     "base_uri": "https://localhost:8080/",
     "height": 115
    },
    "id": "3loaysFOZvSG",
    "outputId": "9b192e9f-9fc6-48c5-f283-3f6610577c50"
   },
   "outputs": [
    {
     "data": {
      "text/html": [
       "<div>\n",
       "<style scoped>\n",
       "    .dataframe tbody tr th:only-of-type {\n",
       "        vertical-align: middle;\n",
       "    }\n",
       "\n",
       "    .dataframe tbody tr th {\n",
       "        vertical-align: top;\n",
       "    }\n",
       "\n",
       "    .dataframe thead th {\n",
       "        text-align: right;\n",
       "    }\n",
       "</style>\n",
       "<table border=\"1\" class=\"dataframe\">\n",
       "  <thead>\n",
       "    <tr style=\"text-align: right;\">\n",
       "      <th></th>\n",
       "      <th>user_id</th>\n",
       "      <th>isbn</th>\n",
       "      <th>book_rating</th>\n",
       "      <th>book_title</th>\n",
       "      <th>book_author</th>\n",
       "      <th>year_of_publication</th>\n",
       "      <th>publisher</th>\n",
       "      <th>location</th>\n",
       "      <th>age</th>\n",
       "    </tr>\n",
       "  </thead>\n",
       "  <tbody>\n",
       "    <tr>\n",
       "      <th>402556</th>\n",
       "      <td>137190</td>\n",
       "      <td>2070426769</td>\n",
       "      <td>0</td>\n",
       "      <td>Peuple du ciel, suivi de 'Les Bergers\\\";Jean-Marie Gustave Le ClÃ?Â©zio\"</td>\n",
       "      <td>2003</td>\n",
       "      <td>Gallimard</td>\n",
       "      <td>http://images.amazon.com/images/P/2070426769.01.THUMBZZZ.jpg</td>\n",
       "      <td>rennes, bretagne, france</td>\n",
       "      <td>31.0</td>\n",
       "    </tr>\n",
       "  </tbody>\n",
       "</table>\n",
       "</div>"
      ],
      "text/plain": [
       "        user_id        isbn  book_rating  \\\n",
       "402556  137190   2070426769  0             \n",
       "\n",
       "                                                                      book_title  \\\n",
       "402556  Peuple du ciel, suivi de 'Les Bergers\\\";Jean-Marie Gustave Le ClÃ?Â©zio\"   \n",
       "\n",
       "       book_author year_of_publication  \\\n",
       "402556  2003        Gallimard            \n",
       "\n",
       "                                                           publisher  \\\n",
       "402556  http://images.amazon.com/images/P/2070426769.01.THUMBZZZ.jpg   \n",
       "\n",
       "                        location   age  \n",
       "402556  rennes, bretagne, france  31.0  "
      ]
     },
     "execution_count": 20,
     "metadata": {},
     "output_type": "execute_result"
    }
   ],
   "source": [
    "merged2_df[merged2_df['year_of_publication'] == 'Gallimard']"
   ]
  },
  {
   "cell_type": "code",
   "execution_count": 21,
   "metadata": {
    "colab": {
     "base_uri": "https://localhost:8080/"
    },
    "id": "m491QUZMaj07",
    "outputId": "7a6896ac-c090-4e8e-8fd4-c2c040497607"
   },
   "outputs": [
    {
     "data": {
      "text/plain": [
       "user_id                130571                                                                                                     \n",
       "isbn                   0789466953                                                                                                 \n",
       "book_rating            0                                                                                                          \n",
       "book_title             DK Readers: Creating the X-Men, How Comic Books Come to Life (Level 4: Proficient Readers)\\\";James Buckley\"\n",
       "book_author            2000                                                                                                       \n",
       "year_of_publication    DK Publishing Inc                                                                                          \n",
       "publisher              http://images.amazon.com/images/P/0789466953.01.THUMBZZZ.jpg                                               \n",
       "location               summerville, south carolina, usa                                                                           \n",
       "age                    NaN                                                                                                        \n",
       "Name: 85425, dtype: object"
      ]
     },
     "execution_count": 21,
     "metadata": {},
     "output_type": "execute_result"
    }
   ],
   "source": [
    "merged2_df.loc[85425]"
   ]
  },
  {
   "cell_type": "code",
   "execution_count": 22,
   "metadata": {
    "colab": {
     "base_uri": "https://localhost:8080/"
    },
    "id": "si9vNQWKatXp",
    "outputId": "31acfb4c-30b8-4f92-8ad4-525665410625"
   },
   "outputs": [
    {
     "data": {
      "text/plain": [
       "user_id                227771                                                                                              \n",
       "isbn                   078946697X                                                                                          \n",
       "book_rating            7                                                                                                   \n",
       "book_title             DK Readers: Creating the X-Men, How It All Began (Level 4: Proficient Readers)\\\";Michael Teitelbaum\"\n",
       "book_author            2000                                                                                                \n",
       "year_of_publication    DK Publishing Inc                                                                                   \n",
       "publisher              http://images.amazon.com/images/P/078946697X.01.THUMBZZZ.jpg                                        \n",
       "location               savion, n/a, israel                                                                                 \n",
       "age                    19.0                                                                                                \n",
       "Name: 346284, dtype: object"
      ]
     },
     "execution_count": 22,
     "metadata": {},
     "output_type": "execute_result"
    }
   ],
   "source": [
    "\n",
    "merged2_df.loc[346284]"
   ]
  },
  {
   "cell_type": "code",
   "execution_count": 23,
   "metadata": {
    "colab": {
     "base_uri": "https://localhost:8080/"
    },
    "id": "ReG_UuSpat84",
    "outputId": "9167eb0b-b412-43f0-b694-a4a4eaae5304"
   },
   "outputs": [
    {
     "data": {
      "text/plain": [
       "user_id                169663                                                                                              \n",
       "isbn                   078946697X                                                                                          \n",
       "book_rating            0                                                                                                   \n",
       "book_title             DK Readers: Creating the X-Men, How It All Began (Level 4: Proficient Readers)\\\";Michael Teitelbaum\"\n",
       "book_author            2000                                                                                                \n",
       "year_of_publication    DK Publishing Inc                                                                                   \n",
       "publisher              http://images.amazon.com/images/P/078946697X.01.THUMBZZZ.jpg                                        \n",
       "location               towson, maryland, usa                                                                               \n",
       "age                    NaN                                                                                                 \n",
       "Name: 594299, dtype: object"
      ]
     },
     "execution_count": 23,
     "metadata": {},
     "output_type": "execute_result"
    }
   ],
   "source": [
    "merged2_df.loc[594299]"
   ]
  },
  {
   "cell_type": "code",
   "execution_count": 24,
   "metadata": {
    "colab": {
     "base_uri": "https://localhost:8080/"
    },
    "id": "Kg9fol0Ya-hk",
    "outputId": "c6a2c55e-d094-4fd0-8651-c4e2e666cc11"
   },
   "outputs": [
    {
     "data": {
      "text/plain": [
       "user_id                137190                                                                  \n",
       "isbn                   2070426769                                                              \n",
       "book_rating            0                                                                       \n",
       "book_title             Peuple du ciel, suivi de 'Les Bergers\\\";Jean-Marie Gustave Le ClÃ?Â©zio\"\n",
       "book_author            2003                                                                    \n",
       "year_of_publication    Gallimard                                                               \n",
       "publisher              http://images.amazon.com/images/P/2070426769.01.THUMBZZZ.jpg            \n",
       "location               rennes, bretagne, france                                                \n",
       "age                    31.0                                                                    \n",
       "Name: 402556, dtype: object"
      ]
     },
     "execution_count": 24,
     "metadata": {},
     "output_type": "execute_result"
    }
   ],
   "source": [
    "merged2_df.loc[402556]"
   ]
  },
  {
   "cell_type": "markdown",
   "metadata": {
    "id": "V4Uo_XD5eiQw"
   },
   "source": [
    "#Treat the mismatch data"
   ]
  },
  {
   "cell_type": "code",
   "execution_count": 25,
   "metadata": {
    "id": "fj-UiQxybHcI"
   },
   "outputs": [],
   "source": [
    "def replace_df_value(df, idx, col_name, val):\n",
    "    df.loc[idx, col_name] = val\n",
    "    return df"
   ]
  },
  {
   "cell_type": "code",
   "execution_count": 26,
   "metadata": {
    "colab": {
     "base_uri": "https://localhost:8080/",
     "height": 545
    },
    "id": "fxejk9lVbQBx",
    "outputId": "c96aff88-2b35-436b-b016-e5e7dbb3f693"
   },
   "outputs": [
    {
     "data": {
      "text/html": [
       "<div>\n",
       "<style scoped>\n",
       "    .dataframe tbody tr th:only-of-type {\n",
       "        vertical-align: middle;\n",
       "    }\n",
       "\n",
       "    .dataframe tbody tr th {\n",
       "        vertical-align: top;\n",
       "    }\n",
       "\n",
       "    .dataframe thead th {\n",
       "        text-align: right;\n",
       "    }\n",
       "</style>\n",
       "<table border=\"1\" class=\"dataframe\">\n",
       "  <thead>\n",
       "    <tr style=\"text-align: right;\">\n",
       "      <th></th>\n",
       "      <th>user_id</th>\n",
       "      <th>isbn</th>\n",
       "      <th>book_rating</th>\n",
       "      <th>book_title</th>\n",
       "      <th>book_author</th>\n",
       "      <th>year_of_publication</th>\n",
       "      <th>publisher</th>\n",
       "      <th>location</th>\n",
       "      <th>age</th>\n",
       "    </tr>\n",
       "  </thead>\n",
       "  <tbody>\n",
       "    <tr>\n",
       "      <th>0</th>\n",
       "      <td>276725</td>\n",
       "      <td>034545104X</td>\n",
       "      <td>0</td>\n",
       "      <td>Flesh Tones: A Novel</td>\n",
       "      <td>M. J. Rose</td>\n",
       "      <td>2002</td>\n",
       "      <td>Ballantine Books</td>\n",
       "      <td>tyler, texas, usa</td>\n",
       "      <td>NaN</td>\n",
       "    </tr>\n",
       "    <tr>\n",
       "      <th>1</th>\n",
       "      <td>2313</td>\n",
       "      <td>034545104X</td>\n",
       "      <td>5</td>\n",
       "      <td>Flesh Tones: A Novel</td>\n",
       "      <td>M. J. Rose</td>\n",
       "      <td>2002</td>\n",
       "      <td>Ballantine Books</td>\n",
       "      <td>cincinnati, ohio, usa</td>\n",
       "      <td>23.0</td>\n",
       "    </tr>\n",
       "    <tr>\n",
       "      <th>2</th>\n",
       "      <td>2313</td>\n",
       "      <td>0812533550</td>\n",
       "      <td>9</td>\n",
       "      <td>Ender's Game (Ender Wiggins Saga (Paperback))</td>\n",
       "      <td>Orson Scott Card</td>\n",
       "      <td>1986</td>\n",
       "      <td>Tor Books</td>\n",
       "      <td>cincinnati, ohio, usa</td>\n",
       "      <td>23.0</td>\n",
       "    </tr>\n",
       "    <tr>\n",
       "      <th>3</th>\n",
       "      <td>2313</td>\n",
       "      <td>0679745580</td>\n",
       "      <td>8</td>\n",
       "      <td>In Cold Blood (Vintage International)</td>\n",
       "      <td>TRUMAN CAPOTE</td>\n",
       "      <td>1994</td>\n",
       "      <td>Vintage</td>\n",
       "      <td>cincinnati, ohio, usa</td>\n",
       "      <td>23.0</td>\n",
       "    </tr>\n",
       "    <tr>\n",
       "      <th>4</th>\n",
       "      <td>2313</td>\n",
       "      <td>0060173289</td>\n",
       "      <td>9</td>\n",
       "      <td>Divine Secrets of the Ya-Ya Sisterhood : A Novel</td>\n",
       "      <td>Rebecca Wells</td>\n",
       "      <td>1996</td>\n",
       "      <td>HarperCollins</td>\n",
       "      <td>cincinnati, ohio, usa</td>\n",
       "      <td>23.0</td>\n",
       "    </tr>\n",
       "    <tr>\n",
       "      <th>...</th>\n",
       "      <td>...</td>\n",
       "      <td>...</td>\n",
       "      <td>...</td>\n",
       "      <td>...</td>\n",
       "      <td>...</td>\n",
       "      <td>...</td>\n",
       "      <td>...</td>\n",
       "      <td>...</td>\n",
       "      <td>...</td>\n",
       "    </tr>\n",
       "    <tr>\n",
       "      <th>1031131</th>\n",
       "      <td>276442</td>\n",
       "      <td>2862749796</td>\n",
       "      <td>7</td>\n",
       "      <td>Le Huit</td>\n",
       "      <td>Katherine Neville</td>\n",
       "      <td>2002</td>\n",
       "      <td>Le Cherche Midi</td>\n",
       "      <td>genève, genève, switzerland</td>\n",
       "      <td>62.0</td>\n",
       "    </tr>\n",
       "    <tr>\n",
       "      <th>1031132</th>\n",
       "      <td>276618</td>\n",
       "      <td>3788097000</td>\n",
       "      <td>5</td>\n",
       "      <td>Ludwig Marum: Briefe aus dem Konzentrationslager Kislau</td>\n",
       "      <td>Ludwig Marum</td>\n",
       "      <td>1984</td>\n",
       "      <td>C.F. MÃ¼ller</td>\n",
       "      <td>stuttgart, \\n/a\\\"., germany\"</td>\n",
       "      <td>NaN</td>\n",
       "    </tr>\n",
       "    <tr>\n",
       "      <th>1031133</th>\n",
       "      <td>276647</td>\n",
       "      <td>0553571001</td>\n",
       "      <td>0</td>\n",
       "      <td>Christmas With Anne and Other Holiday Stories: And Other Holiday Stories</td>\n",
       "      <td>L. M. Montgomery</td>\n",
       "      <td>2001</td>\n",
       "      <td>Starfire</td>\n",
       "      <td>arlington heights, illinois, usa</td>\n",
       "      <td>13.0</td>\n",
       "    </tr>\n",
       "    <tr>\n",
       "      <th>1031134</th>\n",
       "      <td>276647</td>\n",
       "      <td>0689822294</td>\n",
       "      <td>10</td>\n",
       "      <td>Heaven (Coretta Scott King Author Award Winner)</td>\n",
       "      <td>Angela Johnson</td>\n",
       "      <td>1998</td>\n",
       "      <td>Simon &amp;amp; Schuster Children's Publishing</td>\n",
       "      <td>arlington heights, illinois, usa</td>\n",
       "      <td>13.0</td>\n",
       "    </tr>\n",
       "    <tr>\n",
       "      <th>1031135</th>\n",
       "      <td>276660</td>\n",
       "      <td>0583307841</td>\n",
       "      <td>8</td>\n",
       "      <td>ROBOT RACE (MICRO ADV 6)</td>\n",
       "      <td>David Antony Kroft</td>\n",
       "      <td>1985</td>\n",
       "      <td>HarperCollins Publishers</td>\n",
       "      <td>singapore, n/a, singapore</td>\n",
       "      <td>15.0</td>\n",
       "    </tr>\n",
       "  </tbody>\n",
       "</table>\n",
       "<p>1031136 rows × 9 columns</p>\n",
       "</div>"
      ],
      "text/plain": [
       "         user_id        isbn  book_rating  \\\n",
       "0        276725   034545104X  0             \n",
       "1        2313     034545104X  5             \n",
       "2        2313     0812533550  9             \n",
       "3        2313     0679745580  8             \n",
       "4        2313     0060173289  9             \n",
       "...       ...            ... ..             \n",
       "1031131  276442   2862749796  7             \n",
       "1031132  276618   3788097000  5             \n",
       "1031133  276647   0553571001  0             \n",
       "1031134  276647   0689822294  10            \n",
       "1031135  276660   0583307841  8             \n",
       "\n",
       "                                                                       book_title  \\\n",
       "0        Flesh Tones: A Novel                                                       \n",
       "1        Flesh Tones: A Novel                                                       \n",
       "2        Ender's Game (Ender Wiggins Saga (Paperback))                              \n",
       "3        In Cold Blood (Vintage International)                                      \n",
       "4        Divine Secrets of the Ya-Ya Sisterhood : A Novel                           \n",
       "...                                                   ...                           \n",
       "1031131  Le Huit                                                                    \n",
       "1031132  Ludwig Marum: Briefe aus dem Konzentrationslager Kislau                    \n",
       "1031133  Christmas With Anne and Other Holiday Stories: And Other Holiday Stories   \n",
       "1031134  Heaven (Coretta Scott King Author Award Winner)                            \n",
       "1031135  ROBOT RACE (MICRO ADV 6)                                                   \n",
       "\n",
       "                book_author year_of_publication  \\\n",
       "0        M. J. Rose          2002                 \n",
       "1        M. J. Rose          2002                 \n",
       "2        Orson Scott Card    1986                 \n",
       "3        TRUMAN CAPOTE       1994                 \n",
       "4        Rebecca Wells       1996                 \n",
       "...                ...        ...                 \n",
       "1031131  Katherine Neville   2002                 \n",
       "1031132  Ludwig Marum        1984                 \n",
       "1031133  L. M. Montgomery    2001                 \n",
       "1031134  Angela Johnson      1998                 \n",
       "1031135  David Antony Kroft  1985                 \n",
       "\n",
       "                                          publisher  \\\n",
       "0        Ballantine Books                             \n",
       "1        Ballantine Books                             \n",
       "2        Tor Books                                    \n",
       "3        Vintage                                      \n",
       "4        HarperCollins                                \n",
       "...                ...                                \n",
       "1031131  Le Cherche Midi                              \n",
       "1031132  C.F. MÃ¼ller                                 \n",
       "1031133  Starfire                                     \n",
       "1031134  Simon &amp; Schuster Children's Publishing   \n",
       "1031135  HarperCollins Publishers                     \n",
       "\n",
       "                                 location   age  \n",
       "0        tyler, texas, usa                NaN    \n",
       "1        cincinnati, ohio, usa             23.0  \n",
       "2        cincinnati, ohio, usa             23.0  \n",
       "3        cincinnati, ohio, usa             23.0  \n",
       "4        cincinnati, ohio, usa             23.0  \n",
       "...                        ...              ...  \n",
       "1031131  genève, genève, switzerland       62.0  \n",
       "1031132  stuttgart, \\n/a\\\"., germany\"     NaN    \n",
       "1031133  arlington heights, illinois, usa  13.0  \n",
       "1031134  arlington heights, illinois, usa  13.0  \n",
       "1031135  singapore, n/a, singapore         15.0  \n",
       "\n",
       "[1031136 rows x 9 columns]"
      ]
     },
     "execution_count": 26,
     "metadata": {},
     "output_type": "execute_result"
    }
   ],
   "source": [
    "replace_df_value(merged2_df, 85425, 'book_title', 'DK Readers: Creating the X-Men, How It All Began (Level 4: Proficient Readers)')\n",
    "replace_df_value(merged2_df, 85425, 'book_author', 'Michael Teitelbaum')\n",
    "replace_df_value(merged2_df, 85425, 'year_of_publication', 2000)\n",
    "replace_df_value(merged2_df, 85425, 'publisher', 'DK Publishing Inc')\n",
    "\n",
    "replace_df_value(merged2_df, 346284, 'book_title', 'DK Readers: Creating the X-Men, How Comic Books Come to Life (Level 4: Proficient Readers)')\n",
    "replace_df_value(merged2_df, 346284, 'book_author', 'James Buckley')\n",
    "replace_df_value(merged2_df, 346284, 'year_of_publication', 2000)\n",
    "replace_df_value(merged2_df, 346284, 'publisher', 'DK Publishing Inc')\n",
    "\n",
    "replace_df_value(merged2_df, 594299, 'book_title', 'DK Readers: Creating the X-Men, How It All Began (Level 4: Proficient Readers)')\n",
    "replace_df_value(merged2_df, 594299, 'book_author', 'Michael Teitelbaum')\n",
    "replace_df_value(merged2_df, 594299, 'year_of_publication', 2000)\n",
    "replace_df_value(merged2_df, 594299, 'publisher', 'DK Publishing Inc')\n",
    "\n",
    "replace_df_value(merged2_df, 220731,'book_title', \"Peuple du ciel, suivi de 'Les Bergers\")\n",
    "replace_df_value(merged2_df, 220731, 'book_author', 'Jean-Marie Gustave Le ClÃ?Â©zio')\n",
    "replace_df_value(merged2_df, 220731, 'year_of_publication', 2003)\n",
    "replace_df_value(merged2_df, 220731, 'publisher', 'Gallimard')\n",
    "\n"
   ]
  },
  {
   "cell_type": "code",
   "execution_count": 27,
   "metadata": {
    "colab": {
     "base_uri": "https://localhost:8080/"
    },
    "id": "nEdX0-w6eBQG",
    "outputId": "ad5017d6-6df2-46fe-e2c3-421f887ee2d1"
   },
   "outputs": [
    {
     "data": {
      "text/plain": [
       "user_id                130571                                                                        \n",
       "isbn                   0789466953                                                                    \n",
       "book_rating            0                                                                             \n",
       "book_title             DK Readers: Creating the X-Men, How It All Began (Level 4: Proficient Readers)\n",
       "book_author            Michael Teitelbaum                                                            \n",
       "year_of_publication    2000                                                                          \n",
       "publisher              DK Publishing Inc                                                             \n",
       "location               summerville, south carolina, usa                                              \n",
       "age                    NaN                                                                           \n",
       "Name: 85425, dtype: object"
      ]
     },
     "execution_count": 27,
     "metadata": {},
     "output_type": "execute_result"
    }
   ],
   "source": [
    "merged2_df.loc[85425]"
   ]
  },
  {
   "cell_type": "code",
   "execution_count": 28,
   "metadata": {
    "colab": {
     "base_uri": "https://localhost:8080/"
    },
    "id": "9MrUmHh2eD-b",
    "outputId": "5b3bc647-7a97-4823-f66a-e1c8d323219e"
   },
   "outputs": [
    {
     "data": {
      "text/plain": [
       "user_id                227771                                                                                    \n",
       "isbn                   078946697X                                                                                \n",
       "book_rating            7                                                                                         \n",
       "book_title             DK Readers: Creating the X-Men, How Comic Books Come to Life (Level 4: Proficient Readers)\n",
       "book_author            James Buckley                                                                             \n",
       "year_of_publication    2000                                                                                      \n",
       "publisher              DK Publishing Inc                                                                         \n",
       "location               savion, n/a, israel                                                                       \n",
       "age                    19.0                                                                                      \n",
       "Name: 346284, dtype: object"
      ]
     },
     "execution_count": 28,
     "metadata": {},
     "output_type": "execute_result"
    }
   ],
   "source": [
    "merged2_df.loc[346284]"
   ]
  },
  {
   "cell_type": "code",
   "execution_count": 29,
   "metadata": {
    "colab": {
     "base_uri": "https://localhost:8080/"
    },
    "id": "87prznM_eKaU",
    "outputId": "789f44c4-a04a-43ca-b2a7-0cfa2f7a87ed"
   },
   "outputs": [
    {
     "data": {
      "text/plain": [
       "user_id                169663                                                                        \n",
       "isbn                   078946697X                                                                    \n",
       "book_rating            0                                                                             \n",
       "book_title             DK Readers: Creating the X-Men, How It All Began (Level 4: Proficient Readers)\n",
       "book_author            Michael Teitelbaum                                                            \n",
       "year_of_publication    2000                                                                          \n",
       "publisher              DK Publishing Inc                                                             \n",
       "location               towson, maryland, usa                                                         \n",
       "age                    NaN                                                                           \n",
       "Name: 594299, dtype: object"
      ]
     },
     "execution_count": 29,
     "metadata": {},
     "output_type": "execute_result"
    }
   ],
   "source": [
    "merged2_df.loc[594299]"
   ]
  },
  {
   "cell_type": "code",
   "execution_count": 30,
   "metadata": {
    "colab": {
     "base_uri": "https://localhost:8080/"
    },
    "id": "SNKCP12beOYj",
    "outputId": "61f26881-73e3-4c2b-8079-2bdd56a9d09e"
   },
   "outputs": [
    {
     "data": {
      "text/plain": [
       "user_id                137190                                                                  \n",
       "isbn                   2070426769                                                              \n",
       "book_rating            0                                                                       \n",
       "book_title             Peuple du ciel, suivi de 'Les Bergers\\\";Jean-Marie Gustave Le ClÃ?Â©zio\"\n",
       "book_author            2003                                                                    \n",
       "year_of_publication    Gallimard                                                               \n",
       "publisher              http://images.amazon.com/images/P/2070426769.01.THUMBZZZ.jpg            \n",
       "location               rennes, bretagne, france                                                \n",
       "age                    31.0                                                                    \n",
       "Name: 402556, dtype: object"
      ]
     },
     "execution_count": 30,
     "metadata": {},
     "output_type": "execute_result"
    }
   ],
   "source": [
    "\n",
    "merged2_df.loc[402556]"
   ]
  },
  {
   "cell_type": "code",
   "execution_count": 31,
   "metadata": {
    "colab": {
     "base_uri": "https://localhost:8080/",
     "height": 545
    },
    "id": "t305UnamofOV",
    "outputId": "673db9d0-6790-4488-9773-8ef2b4b9d7df"
   },
   "outputs": [
    {
     "data": {
      "text/html": [
       "<div>\n",
       "<style scoped>\n",
       "    .dataframe tbody tr th:only-of-type {\n",
       "        vertical-align: middle;\n",
       "    }\n",
       "\n",
       "    .dataframe tbody tr th {\n",
       "        vertical-align: top;\n",
       "    }\n",
       "\n",
       "    .dataframe thead th {\n",
       "        text-align: right;\n",
       "    }\n",
       "</style>\n",
       "<table border=\"1\" class=\"dataframe\">\n",
       "  <thead>\n",
       "    <tr style=\"text-align: right;\">\n",
       "      <th></th>\n",
       "      <th>user_id</th>\n",
       "      <th>isbn</th>\n",
       "      <th>book_rating</th>\n",
       "      <th>book_title</th>\n",
       "      <th>book_author</th>\n",
       "      <th>year_of_publication</th>\n",
       "      <th>publisher</th>\n",
       "      <th>location</th>\n",
       "      <th>age</th>\n",
       "    </tr>\n",
       "  </thead>\n",
       "  <tbody>\n",
       "    <tr>\n",
       "      <th>0</th>\n",
       "      <td>276725</td>\n",
       "      <td>034545104X</td>\n",
       "      <td>0</td>\n",
       "      <td>Flesh Tones: A Novel</td>\n",
       "      <td>M. J. Rose</td>\n",
       "      <td>2002</td>\n",
       "      <td>Ballantine Books</td>\n",
       "      <td>tyler, texas, usa</td>\n",
       "      <td>NaN</td>\n",
       "    </tr>\n",
       "    <tr>\n",
       "      <th>1</th>\n",
       "      <td>2313</td>\n",
       "      <td>034545104X</td>\n",
       "      <td>5</td>\n",
       "      <td>Flesh Tones: A Novel</td>\n",
       "      <td>M. J. Rose</td>\n",
       "      <td>2002</td>\n",
       "      <td>Ballantine Books</td>\n",
       "      <td>cincinnati, ohio, usa</td>\n",
       "      <td>23.0</td>\n",
       "    </tr>\n",
       "    <tr>\n",
       "      <th>2</th>\n",
       "      <td>2313</td>\n",
       "      <td>0812533550</td>\n",
       "      <td>9</td>\n",
       "      <td>Ender's Game (Ender Wiggins Saga (Paperback))</td>\n",
       "      <td>Orson Scott Card</td>\n",
       "      <td>1986</td>\n",
       "      <td>Tor Books</td>\n",
       "      <td>cincinnati, ohio, usa</td>\n",
       "      <td>23.0</td>\n",
       "    </tr>\n",
       "    <tr>\n",
       "      <th>3</th>\n",
       "      <td>2313</td>\n",
       "      <td>0679745580</td>\n",
       "      <td>8</td>\n",
       "      <td>In Cold Blood (Vintage International)</td>\n",
       "      <td>TRUMAN CAPOTE</td>\n",
       "      <td>1994</td>\n",
       "      <td>Vintage</td>\n",
       "      <td>cincinnati, ohio, usa</td>\n",
       "      <td>23.0</td>\n",
       "    </tr>\n",
       "    <tr>\n",
       "      <th>4</th>\n",
       "      <td>2313</td>\n",
       "      <td>0060173289</td>\n",
       "      <td>9</td>\n",
       "      <td>Divine Secrets of the Ya-Ya Sisterhood : A Novel</td>\n",
       "      <td>Rebecca Wells</td>\n",
       "      <td>1996</td>\n",
       "      <td>HarperCollins</td>\n",
       "      <td>cincinnati, ohio, usa</td>\n",
       "      <td>23.0</td>\n",
       "    </tr>\n",
       "    <tr>\n",
       "      <th>...</th>\n",
       "      <td>...</td>\n",
       "      <td>...</td>\n",
       "      <td>...</td>\n",
       "      <td>...</td>\n",
       "      <td>...</td>\n",
       "      <td>...</td>\n",
       "      <td>...</td>\n",
       "      <td>...</td>\n",
       "      <td>...</td>\n",
       "    </tr>\n",
       "    <tr>\n",
       "      <th>1031131</th>\n",
       "      <td>276442</td>\n",
       "      <td>2862749796</td>\n",
       "      <td>7</td>\n",
       "      <td>Le Huit</td>\n",
       "      <td>Katherine Neville</td>\n",
       "      <td>2002</td>\n",
       "      <td>Le Cherche Midi</td>\n",
       "      <td>genève, genève, switzerland</td>\n",
       "      <td>62.0</td>\n",
       "    </tr>\n",
       "    <tr>\n",
       "      <th>1031132</th>\n",
       "      <td>276618</td>\n",
       "      <td>3788097000</td>\n",
       "      <td>5</td>\n",
       "      <td>Ludwig Marum: Briefe aus dem Konzentrationslager Kislau</td>\n",
       "      <td>Ludwig Marum</td>\n",
       "      <td>1984</td>\n",
       "      <td>C.F. MÃ¼ller</td>\n",
       "      <td>stuttgart, \\n/a\\\"., germany\"</td>\n",
       "      <td>NaN</td>\n",
       "    </tr>\n",
       "    <tr>\n",
       "      <th>1031133</th>\n",
       "      <td>276647</td>\n",
       "      <td>0553571001</td>\n",
       "      <td>0</td>\n",
       "      <td>Christmas With Anne and Other Holiday Stories: And Other Holiday Stories</td>\n",
       "      <td>L. M. Montgomery</td>\n",
       "      <td>2001</td>\n",
       "      <td>Starfire</td>\n",
       "      <td>arlington heights, illinois, usa</td>\n",
       "      <td>13.0</td>\n",
       "    </tr>\n",
       "    <tr>\n",
       "      <th>1031134</th>\n",
       "      <td>276647</td>\n",
       "      <td>0689822294</td>\n",
       "      <td>10</td>\n",
       "      <td>Heaven (Coretta Scott King Author Award Winner)</td>\n",
       "      <td>Angela Johnson</td>\n",
       "      <td>1998</td>\n",
       "      <td>Simon &amp;amp; Schuster Children's Publishing</td>\n",
       "      <td>arlington heights, illinois, usa</td>\n",
       "      <td>13.0</td>\n",
       "    </tr>\n",
       "    <tr>\n",
       "      <th>1031135</th>\n",
       "      <td>276660</td>\n",
       "      <td>0583307841</td>\n",
       "      <td>8</td>\n",
       "      <td>ROBOT RACE (MICRO ADV 6)</td>\n",
       "      <td>David Antony Kroft</td>\n",
       "      <td>1985</td>\n",
       "      <td>HarperCollins Publishers</td>\n",
       "      <td>singapore, n/a, singapore</td>\n",
       "      <td>15.0</td>\n",
       "    </tr>\n",
       "  </tbody>\n",
       "</table>\n",
       "<p>1031136 rows × 9 columns</p>\n",
       "</div>"
      ],
      "text/plain": [
       "         user_id        isbn  book_rating  \\\n",
       "0        276725   034545104X  0             \n",
       "1        2313     034545104X  5             \n",
       "2        2313     0812533550  9             \n",
       "3        2313     0679745580  8             \n",
       "4        2313     0060173289  9             \n",
       "...       ...            ... ..             \n",
       "1031131  276442   2862749796  7             \n",
       "1031132  276618   3788097000  5             \n",
       "1031133  276647   0553571001  0             \n",
       "1031134  276647   0689822294  10            \n",
       "1031135  276660   0583307841  8             \n",
       "\n",
       "                                                                       book_title  \\\n",
       "0        Flesh Tones: A Novel                                                       \n",
       "1        Flesh Tones: A Novel                                                       \n",
       "2        Ender's Game (Ender Wiggins Saga (Paperback))                              \n",
       "3        In Cold Blood (Vintage International)                                      \n",
       "4        Divine Secrets of the Ya-Ya Sisterhood : A Novel                           \n",
       "...                                                   ...                           \n",
       "1031131  Le Huit                                                                    \n",
       "1031132  Ludwig Marum: Briefe aus dem Konzentrationslager Kislau                    \n",
       "1031133  Christmas With Anne and Other Holiday Stories: And Other Holiday Stories   \n",
       "1031134  Heaven (Coretta Scott King Author Award Winner)                            \n",
       "1031135  ROBOT RACE (MICRO ADV 6)                                                   \n",
       "\n",
       "                book_author year_of_publication  \\\n",
       "0        M. J. Rose          2002                 \n",
       "1        M. J. Rose          2002                 \n",
       "2        Orson Scott Card    1986                 \n",
       "3        TRUMAN CAPOTE       1994                 \n",
       "4        Rebecca Wells       1996                 \n",
       "...                ...        ...                 \n",
       "1031131  Katherine Neville   2002                 \n",
       "1031132  Ludwig Marum        1984                 \n",
       "1031133  L. M. Montgomery    2001                 \n",
       "1031134  Angela Johnson      1998                 \n",
       "1031135  David Antony Kroft  1985                 \n",
       "\n",
       "                                          publisher  \\\n",
       "0        Ballantine Books                             \n",
       "1        Ballantine Books                             \n",
       "2        Tor Books                                    \n",
       "3        Vintage                                      \n",
       "4        HarperCollins                                \n",
       "...                ...                                \n",
       "1031131  Le Cherche Midi                              \n",
       "1031132  C.F. MÃ¼ller                                 \n",
       "1031133  Starfire                                     \n",
       "1031134  Simon &amp; Schuster Children's Publishing   \n",
       "1031135  HarperCollins Publishers                     \n",
       "\n",
       "                                 location   age  \n",
       "0        tyler, texas, usa                NaN    \n",
       "1        cincinnati, ohio, usa             23.0  \n",
       "2        cincinnati, ohio, usa             23.0  \n",
       "3        cincinnati, ohio, usa             23.0  \n",
       "4        cincinnati, ohio, usa             23.0  \n",
       "...                        ...              ...  \n",
       "1031131  genève, genève, switzerland       62.0  \n",
       "1031132  stuttgart, \\n/a\\\"., germany\"     NaN    \n",
       "1031133  arlington heights, illinois, usa  13.0  \n",
       "1031134  arlington heights, illinois, usa  13.0  \n",
       "1031135  singapore, n/a, singapore         15.0  \n",
       "\n",
       "[1031136 rows x 9 columns]"
      ]
     },
     "execution_count": 31,
     "metadata": {},
     "output_type": "execute_result"
    }
   ],
   "source": [
    "replace_df_value(merged2_df, 402556,'book_title', \"Peuple du ciel, suivi de 'Les Bergers\")\n",
    "replace_df_value(merged2_df, 402556, 'book_author', 'Jean-Marie Gustave Le ClÃ?Â©zio')\n",
    "replace_df_value(merged2_df, 402556, 'year_of_publication', 2003)\n",
    "replace_df_value(merged2_df, 402556, 'publisher', 'Gallimard')"
   ]
  },
  {
   "cell_type": "code",
   "execution_count": 32,
   "metadata": {
    "colab": {
     "base_uri": "https://localhost:8080/"
    },
    "id": "FSJodb7PoiF2",
    "outputId": "edaf0568-880e-4f20-d9e8-ef24d0a700f9"
   },
   "outputs": [
    {
     "data": {
      "text/plain": [
       "user_id                137190                               \n",
       "isbn                   2070426769                           \n",
       "book_rating            0                                    \n",
       "book_title             Peuple du ciel, suivi de 'Les Bergers\n",
       "book_author            Jean-Marie Gustave Le ClÃ?Â©zio      \n",
       "year_of_publication    2003                                 \n",
       "publisher              Gallimard                            \n",
       "location               rennes, bretagne, france             \n",
       "age                    31.0                                 \n",
       "Name: 402556, dtype: object"
      ]
     },
     "execution_count": 32,
     "metadata": {},
     "output_type": "execute_result"
    }
   ],
   "source": [
    "merged2_df.loc[402556]"
   ]
  },
  {
   "cell_type": "code",
   "execution_count": 33,
   "metadata": {
    "colab": {
     "base_uri": "https://localhost:8080/"
    },
    "id": "ct117-e8eua4",
    "outputId": "797b0daa-d753-490a-b686-f1e4aecdd964"
   },
   "outputs": [
    {
     "name": "stdout",
     "output_type": "stream",
     "text": [
      "<class 'pandas.core.frame.DataFrame'>\n",
      "Int64Index: 1031136 entries, 0 to 1031135\n",
      "Data columns (total 9 columns):\n",
      " #   Column               Non-Null Count    Dtype  \n",
      "---  ------               --------------    -----  \n",
      " 0   user_id              1031136 non-null  int64  \n",
      " 1   isbn                 1031136 non-null  object \n",
      " 2   book_rating          1031136 non-null  int64  \n",
      " 3   book_title           1031136 non-null  object \n",
      " 4   book_author          1031135 non-null  object \n",
      " 5   year_of_publication  1031136 non-null  object \n",
      " 6   publisher            1031134 non-null  object \n",
      " 7   location             1031136 non-null  object \n",
      " 8   age                  753301 non-null   float64\n",
      "dtypes: float64(1), int64(2), object(6)\n",
      "memory usage: 78.7+ MB\n"
     ]
    }
   ],
   "source": [
    "merged2_df.info()"
   ]
  },
  {
   "cell_type": "code",
   "execution_count": 34,
   "metadata": {
    "colab": {
     "base_uri": "https://localhost:8080/"
    },
    "id": "dWeOD2cJe9ZI",
    "outputId": "501786d8-d8ca-4d17-d598-fe0ed9c88592"
   },
   "outputs": [
    {
     "data": {
      "text/plain": [
       "user_id                0     \n",
       "isbn                   0     \n",
       "book_rating            0     \n",
       "book_title             0     \n",
       "book_author            1     \n",
       "year_of_publication    0     \n",
       "publisher              2     \n",
       "location               0     \n",
       "age                    277835\n",
       "dtype: int64"
      ]
     },
     "execution_count": 34,
     "metadata": {},
     "output_type": "execute_result"
    }
   ],
   "source": [
    "merged2_df.isnull().sum()"
   ]
  },
  {
   "cell_type": "markdown",
   "metadata": {
    "id": "wTR5jFSV2woz"
   },
   "source": [
    "#Loading and Cleaning Data"
   ]
  },
  {
   "cell_type": "markdown",
   "metadata": {
    "id": "GWeYgZZRjj_-"
   },
   "source": [
    "Book-Author' and 'Publisher', we might consider replacing missing values with a default or placeholder value like \"Unknown\" or \"Not Available.\""
   ]
  },
  {
   "cell_type": "code",
   "execution_count": 35,
   "metadata": {
    "colab": {
     "base_uri": "https://localhost:8080/",
     "height": 112
    },
    "id": "_boxyGBOfFwd",
    "outputId": "71c3673c-60f0-4b11-ba8b-af3287ca6da3"
   },
   "outputs": [
    {
     "data": {
      "text/html": [
       "<div>\n",
       "<style scoped>\n",
       "    .dataframe tbody tr th:only-of-type {\n",
       "        vertical-align: middle;\n",
       "    }\n",
       "\n",
       "    .dataframe tbody tr th {\n",
       "        vertical-align: top;\n",
       "    }\n",
       "\n",
       "    .dataframe thead th {\n",
       "        text-align: right;\n",
       "    }\n",
       "</style>\n",
       "<table border=\"1\" class=\"dataframe\">\n",
       "  <thead>\n",
       "    <tr style=\"text-align: right;\">\n",
       "      <th></th>\n",
       "      <th>user_id</th>\n",
       "      <th>isbn</th>\n",
       "      <th>book_rating</th>\n",
       "      <th>book_title</th>\n",
       "      <th>book_author</th>\n",
       "      <th>year_of_publication</th>\n",
       "      <th>publisher</th>\n",
       "      <th>location</th>\n",
       "      <th>age</th>\n",
       "    </tr>\n",
       "  </thead>\n",
       "  <tbody>\n",
       "    <tr>\n",
       "      <th>9777</th>\n",
       "      <td>98391</td>\n",
       "      <td>193169656X</td>\n",
       "      <td>9</td>\n",
       "      <td>Tyrant Moon</td>\n",
       "      <td>Elaine Corvidae</td>\n",
       "      <td>2002</td>\n",
       "      <td>NaN</td>\n",
       "      <td>morrow, georgia, usa</td>\n",
       "      <td>52.0</td>\n",
       "    </tr>\n",
       "    <tr>\n",
       "      <th>9786</th>\n",
       "      <td>98391</td>\n",
       "      <td>1931696993</td>\n",
       "      <td>9</td>\n",
       "      <td>Finders Keepers</td>\n",
       "      <td>Linnea Sinclair</td>\n",
       "      <td>2001</td>\n",
       "      <td>NaN</td>\n",
       "      <td>morrow, georgia, usa</td>\n",
       "      <td>52.0</td>\n",
       "    </tr>\n",
       "  </tbody>\n",
       "</table>\n",
       "</div>"
      ],
      "text/plain": [
       "      user_id        isbn  book_rating       book_title      book_author  \\\n",
       "9777  98391    193169656X  9            Tyrant Moon      Elaine Corvidae   \n",
       "9786  98391    1931696993  9            Finders Keepers  Linnea Sinclair   \n",
       "\n",
       "     year_of_publication publisher              location   age  \n",
       "9777  2002                NaN       morrow, georgia, usa  52.0  \n",
       "9786  2001                NaN       morrow, georgia, usa  52.0  "
      ]
     },
     "execution_count": 35,
     "metadata": {},
     "output_type": "execute_result"
    }
   ],
   "source": [
    "merged2_df.loc[(merged2_df['publisher'].isnull()),: ]"
   ]
  },
  {
   "cell_type": "code",
   "execution_count": 36,
   "metadata": {
    "id": "mfnGAPgMfMH-"
   },
   "outputs": [],
   "source": [
    "merged2_df['publisher'].fillna('Not Available',inplace=True)"
   ]
  },
  {
   "cell_type": "code",
   "execution_count": 37,
   "metadata": {
    "colab": {
     "base_uri": "https://localhost:8080/"
    },
    "id": "TbteK6S0f7FW",
    "outputId": "66eb87e3-f021-4060-9e4d-386edb6e5647"
   },
   "outputs": [
    {
     "data": {
      "text/plain": [
       "user_id                0     \n",
       "isbn                   0     \n",
       "book_rating            0     \n",
       "book_title             0     \n",
       "book_author            1     \n",
       "year_of_publication    0     \n",
       "publisher              0     \n",
       "location               0     \n",
       "age                    277835\n",
       "dtype: int64"
      ]
     },
     "execution_count": 37,
     "metadata": {},
     "output_type": "execute_result"
    }
   ],
   "source": [
    "merged2_df.isnull().sum()"
   ]
  },
  {
   "cell_type": "code",
   "execution_count": 38,
   "metadata": {
    "id": "nhtImPvnf9GT"
   },
   "outputs": [],
   "source": [
    "merged2_df['book_author'].fillna('Not Available',inplace=True)"
   ]
  },
  {
   "cell_type": "code",
   "execution_count": 39,
   "metadata": {
    "colab": {
     "base_uri": "https://localhost:8080/"
    },
    "id": "yeJfF3v_gLQH",
    "outputId": "869cf5b2-a681-4a66-f5e5-575565fade29"
   },
   "outputs": [
    {
     "data": {
      "text/plain": [
       "user_id                0     \n",
       "isbn                   0     \n",
       "book_rating            0     \n",
       "book_title             0     \n",
       "book_author            0     \n",
       "year_of_publication    0     \n",
       "publisher              0     \n",
       "location               0     \n",
       "age                    277835\n",
       "dtype: int64"
      ]
     },
     "execution_count": 39,
     "metadata": {},
     "output_type": "execute_result"
    }
   ],
   "source": [
    "merged2_df.isnull().sum()"
   ]
  },
  {
   "cell_type": "markdown",
   "metadata": {
    "id": "Clt0bC-ujvxV"
   },
   "source": [
    "#Imputing missing age values with the median or mean age, which can help avoid bias introduced by large numbers of missing values."
   ]
  },
  {
   "cell_type": "code",
   "execution_count": 40,
   "metadata": {
    "colab": {
     "base_uri": "https://localhost:8080/"
    },
    "id": "HVxRTKL2gc23",
    "outputId": "c6d36d56-aba4-4d0e-f23d-1ef7b6ce6156"
   },
   "outputs": [
    {
     "data": {
      "text/plain": [
       "array([ nan,  23.,  34.,   2.,  45.,  24.,  36.,  35.,  51.,  39.,  52.,\n",
       "        72.,  30.,  46.,  41.,  33.,  29.,  21.,  38.,  63.,  26.,  59.,\n",
       "        44.,   1.,  25.,  54.,  27.,  28.,  16.,  20.,  17.,  56.,  32.,\n",
       "        61.,  53.,  31.,  40.,  37.,  43.,  50.,  15.,  19., 201.,  49.,\n",
       "        47.,  60.,  69.,  42.,  22.,  18.,  64.,  58.,  68.,  48.,  14.,\n",
       "        62.,  71.,  57., 204., 209.,   9.,  67.,  55.,   0., 101.,  66.,\n",
       "       116.,  13.,  75.,  70., 103., 220.,  65.,  83.,  11.,  10.,  12.,\n",
       "         8.,  76., 200.,  73.,  92.,  80.,  79., 223.,  90., 100.,   7.,\n",
       "        74.,   3.,  77., 104.,  85.,  82., 128.,  81., 140., 152.,  84.,\n",
       "       239.,  78., 148.,  97.,   5., 168.,   4., 151., 147., 136., 228.,\n",
       "        99.,  98.,  93.,  94., 114., 157., 133., 141., 108.,  86., 237.,\n",
       "        96., 146., 212., 219., 124., 229.,  89., 226.,   6., 244., 105.,\n",
       "       199., 123., 118., 156., 138.,  95., 132., 127., 109., 107.])"
      ]
     },
     "execution_count": 40,
     "metadata": {},
     "output_type": "execute_result"
    }
   ],
   "source": [
    "merged2_df['age'].unique()"
   ]
  },
  {
   "cell_type": "markdown",
   "metadata": {
    "id": "73cbK7Atj6EM"
   },
   "source": [
    "#Convert 'age' to numeric"
   ]
  },
  {
   "cell_type": "code",
   "execution_count": 41,
   "metadata": {
    "id": "U0ROCXHli2Pq"
   },
   "outputs": [],
   "source": [
    "merged2_df['age']=pd.to_numeric(merged2_df['age'],errors='coerce')"
   ]
  },
  {
   "cell_type": "code",
   "execution_count": 42,
   "metadata": {
    "colab": {
     "base_uri": "https://localhost:8080/"
    },
    "id": "fm_xil8Bi8s6",
    "outputId": "e1a1feba-fb4e-4851-f8ee-57db03a1bcff"
   },
   "outputs": [
    {
     "name": "stdout",
     "output_type": "stream",
     "text": [
      "<class 'pandas.core.frame.DataFrame'>\n",
      "Int64Index: 1031136 entries, 0 to 1031135\n",
      "Data columns (total 9 columns):\n",
      " #   Column               Non-Null Count    Dtype  \n",
      "---  ------               --------------    -----  \n",
      " 0   user_id              1031136 non-null  int64  \n",
      " 1   isbn                 1031136 non-null  object \n",
      " 2   book_rating          1031136 non-null  int64  \n",
      " 3   book_title           1031136 non-null  object \n",
      " 4   book_author          1031136 non-null  object \n",
      " 5   year_of_publication  1031136 non-null  object \n",
      " 6   publisher            1031136 non-null  object \n",
      " 7   location             1031136 non-null  object \n",
      " 8   age                  753301 non-null   float64\n",
      "dtypes: float64(1), int64(2), object(6)\n",
      "memory usage: 78.7+ MB\n"
     ]
    }
   ],
   "source": [
    "merged2_df.info()"
   ]
  },
  {
   "cell_type": "code",
   "execution_count": 43,
   "metadata": {
    "id": "koFQRqNUgkdQ"
   },
   "outputs": [],
   "source": [
    "from numpy.core.fromnumeric import mean\n",
    "mean=merged2_df['age'].mean()"
   ]
  },
  {
   "cell_type": "code",
   "execution_count": 44,
   "metadata": {
    "colab": {
     "base_uri": "https://localhost:8080/"
    },
    "id": "FTxdyxUbgwh9",
    "outputId": "0f424bf1-c5d6-4e9a-ab8b-3cc67f079597"
   },
   "outputs": [
    {
     "name": "stdout",
     "output_type": "stream",
     "text": [
      "37.39764848314286\n"
     ]
    }
   ],
   "source": [
    "print(mean)"
   ]
  },
  {
   "cell_type": "code",
   "execution_count": 45,
   "metadata": {
    "id": "BdtFtVnOgzl4"
   },
   "outputs": [],
   "source": [
    "merged2_df['age'].fillna((merged2_df['age'].mean()), inplace=True)"
   ]
  },
  {
   "cell_type": "code",
   "execution_count": 46,
   "metadata": {
    "colab": {
     "base_uri": "https://localhost:8080/"
    },
    "id": "CO8L8MfFg51x",
    "outputId": "a2584b23-4eeb-4181-8213-0435acbb1fd1"
   },
   "outputs": [
    {
     "data": {
      "text/plain": [
       "0"
      ]
     },
     "execution_count": 46,
     "metadata": {},
     "output_type": "execute_result"
    }
   ],
   "source": [
    "merged2_df['age'].isnull().sum()"
   ]
  },
  {
   "cell_type": "code",
   "execution_count": 47,
   "metadata": {
    "colab": {
     "base_uri": "https://localhost:8080/"
    },
    "id": "OCwuwcb2g-rL",
    "outputId": "8896479d-dce2-4464-c3f3-d704732a6a2b"
   },
   "outputs": [
    {
     "data": {
      "text/plain": [
       "user_id                0\n",
       "isbn                   0\n",
       "book_rating            0\n",
       "book_title             0\n",
       "book_author            0\n",
       "year_of_publication    0\n",
       "publisher              0\n",
       "location               0\n",
       "age                    0\n",
       "dtype: int64"
      ]
     },
     "execution_count": 47,
     "metadata": {},
     "output_type": "execute_result"
    }
   ],
   "source": [
    "merged2_df.isnull().sum()"
   ]
  },
  {
   "cell_type": "code",
   "execution_count": 48,
   "metadata": {
    "colab": {
     "base_uri": "https://localhost:8080/"
    },
    "id": "h9mCK2tYhFLX",
    "outputId": "4cb63a10-dd05-4098-bdcb-1a093f686aa2"
   },
   "outputs": [
    {
     "data": {
      "text/plain": [
       "array([ 37.39764848,  23.        ,  34.        ,   2.        ,\n",
       "        45.        ,  24.        ,  36.        ,  35.        ,\n",
       "        51.        ,  39.        ,  52.        ,  72.        ,\n",
       "        30.        ,  46.        ,  41.        ,  33.        ,\n",
       "        29.        ,  21.        ,  38.        ,  63.        ,\n",
       "        26.        ,  59.        ,  44.        ,   1.        ,\n",
       "        25.        ,  54.        ,  27.        ,  28.        ,\n",
       "        16.        ,  20.        ,  17.        ,  56.        ,\n",
       "        32.        ,  61.        ,  53.        ,  31.        ,\n",
       "        40.        ,  37.        ,  43.        ,  50.        ,\n",
       "        15.        ,  19.        , 201.        ,  49.        ,\n",
       "        47.        ,  60.        ,  69.        ,  42.        ,\n",
       "        22.        ,  18.        ,  64.        ,  58.        ,\n",
       "        68.        ,  48.        ,  14.        ,  62.        ,\n",
       "        71.        ,  57.        , 204.        , 209.        ,\n",
       "         9.        ,  67.        ,  55.        ,   0.        ,\n",
       "       101.        ,  66.        , 116.        ,  13.        ,\n",
       "        75.        ,  70.        , 103.        , 220.        ,\n",
       "        65.        ,  83.        ,  11.        ,  10.        ,\n",
       "        12.        ,   8.        ,  76.        , 200.        ,\n",
       "        73.        ,  92.        ,  80.        ,  79.        ,\n",
       "       223.        ,  90.        , 100.        ,   7.        ,\n",
       "        74.        ,   3.        ,  77.        , 104.        ,\n",
       "        85.        ,  82.        , 128.        ,  81.        ,\n",
       "       140.        , 152.        ,  84.        , 239.        ,\n",
       "        78.        , 148.        ,  97.        ,   5.        ,\n",
       "       168.        ,   4.        , 151.        , 147.        ,\n",
       "       136.        , 228.        ,  99.        ,  98.        ,\n",
       "        93.        ,  94.        , 114.        , 157.        ,\n",
       "       133.        , 141.        , 108.        ,  86.        ,\n",
       "       237.        ,  96.        , 146.        , 212.        ,\n",
       "       219.        , 124.        , 229.        ,  89.        ,\n",
       "       226.        ,   6.        , 244.        , 105.        ,\n",
       "       199.        , 123.        , 118.        , 156.        ,\n",
       "       138.        ,  95.        , 132.        , 127.        ,\n",
       "       109.        , 107.        ])"
      ]
     },
     "execution_count": 48,
     "metadata": {},
     "output_type": "execute_result"
    }
   ],
   "source": [
    "merged2_df['age'].unique()"
   ]
  },
  {
   "cell_type": "code",
   "execution_count": 49,
   "metadata": {
    "colab": {
     "base_uri": "https://localhost:8080/"
    },
    "id": "GgFj-BT8p7aY",
    "outputId": "20dd17ea-ac91-4cb3-cf95-ce32fd4ee9ca"
   },
   "outputs": [
    {
     "name": "stdout",
     "output_type": "stream",
     "text": [
      "<class 'pandas.core.frame.DataFrame'>\n",
      "Int64Index: 1031136 entries, 0 to 1031135\n",
      "Data columns (total 9 columns):\n",
      " #   Column               Non-Null Count    Dtype  \n",
      "---  ------               --------------    -----  \n",
      " 0   user_id              1031136 non-null  int64  \n",
      " 1   isbn                 1031136 non-null  object \n",
      " 2   book_rating          1031136 non-null  int64  \n",
      " 3   book_title           1031136 non-null  object \n",
      " 4   book_author          1031136 non-null  object \n",
      " 5   year_of_publication  1031136 non-null  object \n",
      " 6   publisher            1031136 non-null  object \n",
      " 7   location             1031136 non-null  object \n",
      " 8   age                  1031136 non-null  float64\n",
      "dtypes: float64(1), int64(2), object(6)\n",
      "memory usage: 78.7+ MB\n"
     ]
    }
   ],
   "source": [
    "merged2_df.info()"
   ]
  },
  {
   "cell_type": "markdown",
   "metadata": {
    "id": "i4lfZTwgqFLk"
   },
   "source": [
    "##Convert 'Year-Of-Publication' to numeric"
   ]
  },
  {
   "cell_type": "code",
   "execution_count": 50,
   "metadata": {
    "id": "pv9u8fcmqILY"
   },
   "outputs": [],
   "source": [
    "merged2_df['year_of_publication']=pd.to_numeric(merged2_df['year_of_publication'],errors='coerce')"
   ]
  },
  {
   "cell_type": "code",
   "execution_count": 51,
   "metadata": {
    "colab": {
     "base_uri": "https://localhost:8080/"
    },
    "id": "UvumlfkUqZRm",
    "outputId": "ad006a72-0151-44d4-db49-28840b3434c8"
   },
   "outputs": [
    {
     "name": "stdout",
     "output_type": "stream",
     "text": [
      "<class 'pandas.core.frame.DataFrame'>\n",
      "Int64Index: 1031136 entries, 0 to 1031135\n",
      "Data columns (total 9 columns):\n",
      " #   Column               Non-Null Count    Dtype  \n",
      "---  ------               --------------    -----  \n",
      " 0   user_id              1031136 non-null  int64  \n",
      " 1   isbn                 1031136 non-null  object \n",
      " 2   book_rating          1031136 non-null  int64  \n",
      " 3   book_title           1031136 non-null  object \n",
      " 4   book_author          1031136 non-null  object \n",
      " 5   year_of_publication  1031136 non-null  int64  \n",
      " 6   publisher            1031136 non-null  object \n",
      " 7   location             1031136 non-null  object \n",
      " 8   age                  1031136 non-null  float64\n",
      "dtypes: float64(1), int64(3), object(5)\n",
      "memory usage: 78.7+ MB\n"
     ]
    }
   ],
   "source": [
    "merged2_df.info()"
   ]
  },
  {
   "cell_type": "markdown",
   "metadata": {
    "id": "CVh22RbQkMFa"
   },
   "source": [
    "#Data Visualizations"
   ]
  },
  {
   "cell_type": "markdown",
   "metadata": {
    "id": "Ep9PBUBVkQ8P"
   },
   "source": [
    "presentation no. 1 -\n",
    "\n",
    "Which are the top Author with number of books ?"
   ]
  },
  {
   "cell_type": "code",
   "execution_count": 52,
   "metadata": {
    "colab": {
     "base_uri": "https://localhost:8080/",
     "height": 581
    },
    "id": "-2vB5ak0jNlZ",
    "outputId": "022abbad-b337-46b0-871d-47e14913cfa4"
   },
   "outputs": [
    {
     "data": {
      "text/plain": [
       "Text(0.5, 1.0, 'Top 20 author with number of books')"
      ]
     },
     "execution_count": 52,
     "metadata": {},
     "output_type": "execute_result"
    },
    {
     "data": {
      "image/png": "[encoded data removed]",
      "text/plain": [
       "<Figure size 864x432 with 1 Axes>"
      ]
     },
     "metadata": {
      "needs_background": "light"
     },
     "output_type": "display_data"
    }
   ],
   "source": [
    "plt.figure(figsize=(12,6))\n",
    "sns.countplot(y=\"book_author\",palette = 'Paired', data=merged2_df,order=merged2_df['book_author'].value_counts().index[0:20])\n",
    "plt.title(\"Top 20 author with number of books\")"
   ]
  },
  {
   "cell_type": "markdown",
   "metadata": {
    "id": "Bdtc_gG3ktMs"
   },
   "source": [
    "Hypotheses regarding authors' success: Agatha Christie's prolific book count doesn't guarantee her as the best; quality matters. Shakespeare's fame stems from influential works despite fewer books. Other authors might have fewer books yet boast best sellers with millions sold, illustrating diverse paths to literary acclaim. Book quantity alone doesn't define greatness; impact, innovation, and readers' resonance shape an author's legacy."
   ]
  },
  {
   "cell_type": "markdown",
   "metadata": {
    "id": "mefsrJGElEJk"
   },
   "source": [
    "presentation no.2 -\n",
    "\n",
    "Which are top publishers with published books ?"
   ]
  },
  {
   "cell_type": "code",
   "execution_count": 53,
   "metadata": {
    "colab": {
     "base_uri": "https://localhost:8080/",
     "height": 581
    },
    "id": "-qVYVmbZlAAw",
    "outputId": "008cd13d-1639-48c8-dfac-cb19ac0b4ae5"
   },
   "outputs": [
    {
     "data": {
      "text/plain": [
       "Text(0.5, 1.0, 'Top 20 Publishers with number of books published')"
      ]
     },
     "execution_count": 53,
     "metadata": {},
     "output_type": "execute_result"
    },
    {
     "data": {
      "image/png": "[encoded data removed]",
      "text/plain": [
       "<Figure size 864x432 with 1 Axes>"
      ]
     },
     "metadata": {
      "needs_background": "light"
     },
     "output_type": "display_data"
    }
   ],
   "source": [
    "plt.figure(figsize=(12,6))\n",
    "sns.countplot(y=\"publisher\",palette = 'Paired', data=merged2_df,order=merged2_df['publisher'].value_counts().index[0:20])\n",
    "plt.title(\"Top 20 Publishers with number of books published\")"
   ]
  },
  {
   "cell_type": "markdown",
   "metadata": {
    "id": "BMkSZbo3ll_u"
   },
   "source": [
    "Analysis of publishing dynamics: Harlequin's substantial book count suggests appeal to top authors; further exploration needed. Its potential outperformance might stem from effective strategies, while competition with Penguin Books, Warner Books, Penguin USA, and Berkley Publishing Group indicates a vibrant industry. Penguin Books' fewer titles might reflect a focus on quality authors, boosting its reputation. Validation requires examining sales, author profiles, and reader response to unravel the interplay between publishers, authors, and audience preferences."
   ]
  },
  {
   "cell_type": "markdown",
   "metadata": {
    "id": "KEw9YucmlwPl"
   },
   "source": [
    "presentation no.3 -\n",
    "\n",
    "Number of Books published in yearly."
   ]
  },
  {
   "cell_type": "code",
   "execution_count": 54,
   "metadata": {
    "colab": {
     "base_uri": "https://localhost:8080/",
     "height": 419
    },
    "id": "kqJ3R9EXlTTM",
    "outputId": "c03d9c66-1390-410d-86cb-c33ee2593714"
   },
   "outputs": [
    {
     "data": {
      "image/png": "[encoded data removed]",
      "text/plain": [
       "<Figure size 3960x1080 with 1 Axes>"
      ]
     },
     "metadata": {
      "needs_background": "light"
     },
     "output_type": "display_data"
    }
   ],
   "source": [
    "publications = {}\n",
    "for year in merged2_df['year_of_publication']:\n",
    "    if str(year) not in publications:\n",
    "        publications[str(year)] = 0\n",
    "    publications[str(year)] +=1\n",
    "\n",
    "publications = {k:v for k, v in sorted(publications.items())}\n",
    "\n",
    "fig = plt.figure(figsize =(55, 15))\n",
    "plt.bar(list(publications.keys()),list(publications.values()), color = 'blue')\n",
    "plt.ylabel(\"Number of books published\")\n",
    "plt.xlabel(\"Year of Publication\")\n",
    "plt.title(\"Number of books published yearly\")\n",
    "plt.margins(x = 0)\n",
    "plt.show()"
   ]
  },
  {
   "cell_type": "code",
   "execution_count": 55,
   "metadata": {
    "colab": {
     "base_uri": "https://localhost:8080/"
    },
    "id": "Oy4gZuDcrERb",
    "outputId": "43a2f3bc-173a-42a5-9719-60480eee844f"
   },
   "outputs": [
    {
     "name": "stdout",
     "output_type": "stream",
     "text": [
      "There are 14009 entries as '0', and 0 NaN entries in the Year of Publication field\n"
     ]
    }
   ],
   "source": [
    "merged2_df.year_of_publication = pd.to_numeric(merged2_df.year_of_publication, errors='coerce')\n",
    "\n",
    "# Checking for 0's or NaNs in Year of Publication\n",
    "zero_year = merged2_df[merged2_df.year_of_publication == 0].year_of_publication.count()\n",
    "nan_year = merged2_df.year_of_publication.isnull().sum()\n",
    "\n",
    "print(f'There are {zero_year} entries as \\'0\\', and {nan_year} NaN entries in the Year of Publication field')\n",
    "\n",
    "# Replace all years of zero with NaN\n",
    "merged2_df.year_of_publication.replace(0, np.nan, inplace=True)"
   ]
  },
  {
   "cell_type": "code",
   "execution_count": 56,
   "metadata": {
    "colab": {
     "base_uri": "https://localhost:8080/",
     "height": 465
    },
    "id": "U77qy1p9pOKY",
    "outputId": "8bdc91a5-ec26-442a-ecec-4de4dead4330"
   },
   "outputs": [
    {
     "data": {
      "image/png": "[encoded data removed]",
      "text/plain": [
       "<Figure size 720x360 with 1 Axes>"
      ]
     },
     "metadata": {
      "needs_background": "light"
     },
     "output_type": "display_data"
    }
   ],
   "source": [
    "year = merged2_df.year_of_publication.value_counts().sort_index()\n",
    "year = year.where(year>5)\n",
    "plt.figure(figsize=(10,5))\n",
    "plt.rcParams.update({'font.size':10})\n",
    "plt.bar(year.index, year.values)\n",
    "plt.xlabel('Year of Publication')\n",
    "plt.ylabel('counts')\n",
    "plt.show()"
   ]
  },
  {
   "cell_type": "markdown",
   "metadata": {
    "id": "QBNildL6rbpy"
   },
   "source": [
    "Book publication trends from 1950 to 2005 reveal intriguing hypotheses: rising publication could signal a growing recognition of books' role in fostering productivity. The gradual emergence of diverse subjects from the late 1940s to 1970 suggests authors catering to evolving reader tastes. In the 1970s to mid-1990s, as subjects diversified, book recommendations likely gained traction, aligning with readers' preferences. The peak engagement observed between 1995 and 2001 signifies a strong connection between authors' choices and reader interests. Analyzing historical data, genre shifts, and marketing strategies can illuminate the complex interplay between societal shifts, author decisions, and reader engagement in shaping the book landscape."
   ]
  },
  {
   "cell_type": "markdown",
   "metadata": {
    "id": "foHIKs7Srr1Z"
   },
   "source": [
    "presenatation no.4 -\n",
    "\n",
    "Age distributions"
   ]
  },
  {
   "cell_type": "code",
   "execution_count": 57,
   "metadata": {
    "colab": {
     "base_uri": "https://localhost:8080/",
     "height": 718
    },
    "id": "_Rg7MWuRryjL",
    "outputId": "ac8c5126-6388-4e36-c3db-2c7830b6dd35"
   },
   "outputs": [
    {
     "data": {
      "image/png": "[encoded data removed]",
      "text/plain": [
       "<Figure size 720x576 with 1 Axes>"
      ]
     },
     "metadata": {
      "needs_background": "light"
     },
     "output_type": "display_data"
    }
   ],
   "source": [
    "plt.figure(figsize=(10,8))\n",
    "merged2_df.age.hist(bins=[10*i for i in range(1, 10)], color = 'cyan')\n",
    "plt.title('Age Distribution')\n",
    "plt.xlabel('Age')\n",
    "plt.ylabel('Count')\n",
    "plt.show()"
   ]
  },
  {
   "cell_type": "markdown",
   "metadata": {
    "id": "9bb-4qLNsf9n"
   },
   "source": [
    "User age preferences for books reveal intriguing trends. High engagement among ages 30-40 and 20-30 could be due to subject alignment and relatability. Authors catering to these life stages might foster strong connections. Interestingly, ages 10-20 and 50-60 also share engagement levels, possibly indicating intergenerational appeal or universal themes. Investigating content relevance, marketing strategies, and cross-generational reading habits can unveil the dynamics behind these patterns."
   ]
  },
  {
   "cell_type": "markdown",
   "metadata": {
    "id": "fo41JO76slYE"
   },
   "source": [
    "presenatation No. 5\n",
    "\n",
    "What are top 20 books as per number of ratings ?"
   ]
  },
  {
   "cell_type": "code",
   "execution_count": 58,
   "metadata": {
    "colab": {
     "base_uri": "https://localhost:8080/",
     "height": 581
    },
    "id": "MQR1T2KGsiWG",
    "outputId": "9dce283b-3aa3-4c4e-dab2-2e32ed6dddbf"
   },
   "outputs": [
    {
     "data": {
      "text/plain": [
       "Text(0.5, 1.0, 'Top 20 books as per number of ratings')"
      ]
     },
     "execution_count": 58,
     "metadata": {},
     "output_type": "execute_result"
    },
    {
     "data": {
      "image/png": "[encoded data removed]",
      "text/plain": [
       "<Figure size 864x432 with 1 Axes>"
      ]
     },
     "metadata": {
      "needs_background": "light"
     },
     "output_type": "display_data"
    }
   ],
   "source": [
    "plt.figure(figsize=(12,6))\n",
    "sns.countplot(y=\"book_title\",palette = 'Paired',data= merged2_df, order=merged2_df['book_title'].value_counts().index[0:15])\n",
    "plt.title(\"Top 20 books as per number of ratings\")"
   ]
  },
  {
   "cell_type": "markdown",
   "metadata": {
    "id": "sRLyaF-_tAKV"
   },
   "source": [
    "Selected Poems\" and \"Little Women\" receive top ratings, indicating reader favor. \"The Secret Garden,\" \"Dracula,\" and \"Adventures of Huckleberry Finn\" compete intensely, likely due to differing audience tastes. Similarly, \"Masquerade,\" \"Black Beauty,\" and \"Frankenstein\" face a competitive struggle, possibly due to genre or era challenges. Analyzing genres, historical contexts, and writing styles can clarify rating variations. Understanding reader preferences illuminates book reception."
   ]
  },
  {
   "cell_type": "code",
   "execution_count": 59,
   "metadata": {
    "colab": {
     "base_uri": "https://localhost:8080/",
     "height": 559
    },
    "id": "OMRWXa4QtBog",
    "outputId": "14031a66-7e31-4695-8322-b00711abe563"
   },
   "outputs": [
    {
     "data": {
      "text/plain": [
       "<AxesSubplot:xlabel='book_rating', ylabel='count'>"
      ]
     },
     "execution_count": 59,
     "metadata": {},
     "output_type": "execute_result"
    },
    {
     "data": {
      "image/png": "[encoded data removed]",
      "text/plain": [
       "<Figure size 576x432 with 1 Axes>"
      ]
     },
     "metadata": {
      "needs_background": "light"
     },
     "output_type": "display_data"
    }
   ],
   "source": [
    "plt.figure(figsize=(8,6))\n",
    "sns.countplot(x=\"book_rating\",palette = 'Paired',data= merged2_df)"
   ]
  },
  {
   "cell_type": "markdown",
   "metadata": {
    "id": "qmOVBiqUttu-"
   },
   "source": [
    "The countplot reveals prominent implicit ratings (0), suggesting many users haven't formally rated books. Recognizable patterns emerge within explicit ratings (1-10), reflecting diverse perceptions of book quality. Notably, a prevalence of ratings at 8 signifies a common choice, possibly indicating positive yet moderately enthusiastic feedback. Deeper exploration of factors influencing implicit ratings and patterns within explicit ratings can illuminate user engagement, preferences, and overall satisfaction. Consideration of book attributes, genres, and user demographics can enrich these hypotheses, offering insights into the complex interplay between readers and their book ratings."
   ]
  },
  {
   "cell_type": "markdown",
   "metadata": {
    "id": "KXwx19DMt9Sm"
   },
   "source": [
    "# Explicit Ratings"
   ]
  },
  {
   "cell_type": "code",
   "execution_count": 60,
   "metadata": {
    "colab": {
     "base_uri": "https://localhost:8080/",
     "height": 581
    },
    "id": "GHtl006Btzg0",
    "outputId": "7322751b-cce9-4b0f-df01-ae38264e0c07"
   },
   "outputs": [
    {
     "data": {
      "text/plain": [
       "Text(0.5, 1.0, 'Explicit Ratings')"
      ]
     },
     "execution_count": 60,
     "metadata": {},
     "output_type": "execute_result"
    },
    {
     "data": {
      "image/png": "[encoded data removed]",
      "text/plain": [
       "<Figure size 576x432 with 1 Axes>"
      ]
     },
     "metadata": {
      "needs_background": "light"
     },
     "output_type": "display_data"
    }
   ],
   "source": [
    "plt.figure(figsize=(8,6))\n",
    "rate_data = merged2_df[merged2_df['book_rating'] != 0]\n",
    "sns.countplot(x=\"book_rating\",palette = 'Paired',data=rate_data)\n",
    "plt.title(\"Explicit Ratings\")"
   ]
  },
  {
   "cell_type": "markdown",
   "metadata": {
    "id": "LWZ9hsFXuQcc"
   },
   "source": [
    "The countplot indicates higher user ratings, with 8 being the most frequent. For ratings 1-4, negative impacts could stem from language issues, offensive content, or dislike of the book. Rating 5 might indicate uncertainty in its impact. Ratings 6-10 reflect positive feedback. Users may assign 8 for books that aren't perfect but satisfactory. The rarity of 6 could be due to its lower position. Ratings 7 and 8 are average but common, while 9 and 10 are top positive ratings. Assessing language, content, and user sentiments can offer insights into rating distribution and its implications on book perception and publication success."
   ]
  },
  {
   "cell_type": "markdown",
   "metadata": {
    "id": "kLYf_z5gucWe"
   },
   "source": [
    "# Recommendation System"
   ]
  },
  {
   "cell_type": "markdown",
   "metadata": {
    "id": "1qJTJ8oOIHOM"
   },
   "source": [
    "Now, let's move on to building a recommendation system based on popularity, which relies on ratings. These recommendations are typically provided to every user, regardless of their individual characteristics."
   ]
  },
  {
   "cell_type": "code",
   "execution_count": 61,
   "metadata": {
    "id": "uf7fY6h4IGm1"
   },
   "outputs": [],
   "source": [
    "ratings_explicit= merged2_df[merged2_df['book_rating'] != 0]   # explicit ratings represented by 1–10\n",
    "ratings_implicit= merged2_df[merged2_df['book_rating'] == 0]   # implicit ratings represented by 0"
   ]
  },
  {
   "cell_type": "code",
   "execution_count": 62,
   "metadata": {
    "colab": {
     "base_uri": "https://localhost:8080/",
     "height": 206
    },
    "id": "F78eZSjNLyB4",
    "outputId": "f544344b-35b5-4595-d94a-6a897cede804"
   },
   "outputs": [
    {
     "data": {
      "text/html": [
       "<div>\n",
       "<style scoped>\n",
       "    .dataframe tbody tr th:only-of-type {\n",
       "        vertical-align: middle;\n",
       "    }\n",
       "\n",
       "    .dataframe tbody tr th {\n",
       "        vertical-align: top;\n",
       "    }\n",
       "\n",
       "    .dataframe thead th {\n",
       "        text-align: right;\n",
       "    }\n",
       "</style>\n",
       "<table border=\"1\" class=\"dataframe\">\n",
       "  <thead>\n",
       "    <tr style=\"text-align: right;\">\n",
       "      <th></th>\n",
       "      <th>user_id</th>\n",
       "      <th>isbn</th>\n",
       "      <th>book_rating</th>\n",
       "      <th>book_title</th>\n",
       "      <th>book_author</th>\n",
       "      <th>year_of_publication</th>\n",
       "      <th>publisher</th>\n",
       "      <th>location</th>\n",
       "      <th>age</th>\n",
       "    </tr>\n",
       "  </thead>\n",
       "  <tbody>\n",
       "    <tr>\n",
       "      <th>1</th>\n",
       "      <td>2313</td>\n",
       "      <td>034545104X</td>\n",
       "      <td>5</td>\n",
       "      <td>Flesh Tones: A Novel</td>\n",
       "      <td>M. J. Rose</td>\n",
       "      <td>2002.0</td>\n",
       "      <td>Ballantine Books</td>\n",
       "      <td>cincinnati, ohio, usa</td>\n",
       "      <td>23.0</td>\n",
       "    </tr>\n",
       "    <tr>\n",
       "      <th>2</th>\n",
       "      <td>2313</td>\n",
       "      <td>0812533550</td>\n",
       "      <td>9</td>\n",
       "      <td>Ender's Game (Ender Wiggins Saga (Paperback))</td>\n",
       "      <td>Orson Scott Card</td>\n",
       "      <td>1986.0</td>\n",
       "      <td>Tor Books</td>\n",
       "      <td>cincinnati, ohio, usa</td>\n",
       "      <td>23.0</td>\n",
       "    </tr>\n",
       "    <tr>\n",
       "      <th>3</th>\n",
       "      <td>2313</td>\n",
       "      <td>0679745580</td>\n",
       "      <td>8</td>\n",
       "      <td>In Cold Blood (Vintage International)</td>\n",
       "      <td>TRUMAN CAPOTE</td>\n",
       "      <td>1994.0</td>\n",
       "      <td>Vintage</td>\n",
       "      <td>cincinnati, ohio, usa</td>\n",
       "      <td>23.0</td>\n",
       "    </tr>\n",
       "    <tr>\n",
       "      <th>4</th>\n",
       "      <td>2313</td>\n",
       "      <td>0060173289</td>\n",
       "      <td>9</td>\n",
       "      <td>Divine Secrets of the Ya-Ya Sisterhood : A Novel</td>\n",
       "      <td>Rebecca Wells</td>\n",
       "      <td>1996.0</td>\n",
       "      <td>HarperCollins</td>\n",
       "      <td>cincinnati, ohio, usa</td>\n",
       "      <td>23.0</td>\n",
       "    </tr>\n",
       "    <tr>\n",
       "      <th>5</th>\n",
       "      <td>2313</td>\n",
       "      <td>0385482388</td>\n",
       "      <td>5</td>\n",
       "      <td>The Mistress of Spices</td>\n",
       "      <td>Chitra Banerjee Divakaruni</td>\n",
       "      <td>1998.0</td>\n",
       "      <td>Anchor Books/Doubleday</td>\n",
       "      <td>cincinnati, ohio, usa</td>\n",
       "      <td>23.0</td>\n",
       "    </tr>\n",
       "  </tbody>\n",
       "</table>\n",
       "</div>"
      ],
      "text/plain": [
       "   user_id        isbn  book_rating  \\\n",
       "1  2313     034545104X  5             \n",
       "2  2313     0812533550  9             \n",
       "3  2313     0679745580  8             \n",
       "4  2313     0060173289  9             \n",
       "5  2313     0385482388  5             \n",
       "\n",
       "                                         book_title  \\\n",
       "1  Flesh Tones: A Novel                               \n",
       "2  Ender's Game (Ender Wiggins Saga (Paperback))      \n",
       "3  In Cold Blood (Vintage International)              \n",
       "4  Divine Secrets of the Ya-Ya Sisterhood : A Novel   \n",
       "5  The Mistress of Spices                             \n",
       "\n",
       "                  book_author  year_of_publication               publisher  \\\n",
       "1  M. J. Rose                  2002.0               Ballantine Books         \n",
       "2  Orson Scott Card            1986.0               Tor Books                \n",
       "3  TRUMAN CAPOTE               1994.0               Vintage                  \n",
       "4  Rebecca Wells               1996.0               HarperCollins            \n",
       "5  Chitra Banerjee Divakaruni  1998.0               Anchor Books/Doubleday   \n",
       "\n",
       "                location   age  \n",
       "1  cincinnati, ohio, usa  23.0  \n",
       "2  cincinnati, ohio, usa  23.0  \n",
       "3  cincinnati, ohio, usa  23.0  \n",
       "4  cincinnati, ohio, usa  23.0  \n",
       "5  cincinnati, ohio, usa  23.0  "
      ]
     },
     "execution_count": 62,
     "metadata": {},
     "output_type": "execute_result"
    }
   ],
   "source": [
    "ratings_explicit.head()"
   ]
  },
  {
   "cell_type": "code",
   "execution_count": 63,
   "metadata": {
    "colab": {
     "base_uri": "https://localhost:8080/"
    },
    "id": "iiVySmOOL3BI",
    "outputId": "d70715ba-03c7-4669-ab35-f66ab217dbc1"
   },
   "outputs": [
    {
     "name": "stdout",
     "output_type": "stream",
     "text": [
      "(1031136, 9)\n",
      "(383842, 9)\n"
     ]
    }
   ],
   "source": [
    "print(merged2_df.shape)\n",
    "print(ratings_explicit.shape)"
   ]
  },
  {
   "cell_type": "markdown",
   "metadata": {
    "id": "Ol4Wb4_CMWCx"
   },
   "source": [
    "#Let's take top 10 recommendation books"
   ]
  },
  {
   "cell_type": "code",
   "execution_count": 64,
   "metadata": {
    "colab": {
     "base_uri": "https://localhost:8080/",
     "height": 411
    },
    "id": "ygL3k1zeMYSY",
    "outputId": "3722618c-ed52-4f8b-ad6f-25b3f1b09fa4"
   },
   "outputs": [
    {
     "name": "stdout",
     "output_type": "stream",
     "text": [
      "The top ten books as per ratings : \n"
     ]
    },
    {
     "data": {
      "text/html": [
       "<div>\n",
       "<style scoped>\n",
       "    .dataframe tbody tr th:only-of-type {\n",
       "        vertical-align: middle;\n",
       "    }\n",
       "\n",
       "    .dataframe tbody tr th {\n",
       "        vertical-align: top;\n",
       "    }\n",
       "\n",
       "    .dataframe thead th {\n",
       "        text-align: right;\n",
       "    }\n",
       "</style>\n",
       "<table border=\"1\" class=\"dataframe\">\n",
       "  <thead>\n",
       "    <tr style=\"text-align: right;\">\n",
       "      <th></th>\n",
       "      <th>book_rating</th>\n",
       "    </tr>\n",
       "    <tr>\n",
       "      <th>book_title</th>\n",
       "      <th></th>\n",
       "    </tr>\n",
       "  </thead>\n",
       "  <tbody>\n",
       "    <tr>\n",
       "      <th>Wild Animus</th>\n",
       "      <td>2502</td>\n",
       "    </tr>\n",
       "    <tr>\n",
       "      <th>The Lovely Bones: A Novel</th>\n",
       "      <td>1295</td>\n",
       "    </tr>\n",
       "    <tr>\n",
       "      <th>The Da Vinci Code</th>\n",
       "      <td>898</td>\n",
       "    </tr>\n",
       "    <tr>\n",
       "      <th>A Painted House</th>\n",
       "      <td>838</td>\n",
       "    </tr>\n",
       "    <tr>\n",
       "      <th>The Nanny Diaries: A Novel</th>\n",
       "      <td>828</td>\n",
       "    </tr>\n",
       "    <tr>\n",
       "      <th>Bridget Jones's Diary</th>\n",
       "      <td>815</td>\n",
       "    </tr>\n",
       "    <tr>\n",
       "      <th>The Secret Life of Bees</th>\n",
       "      <td>774</td>\n",
       "    </tr>\n",
       "    <tr>\n",
       "      <th>Divine Secrets of the Ya-Ya Sisterhood: A Novel</th>\n",
       "      <td>740</td>\n",
       "    </tr>\n",
       "    <tr>\n",
       "      <th>The Red Tent (Bestselling Backlist)</th>\n",
       "      <td>723</td>\n",
       "    </tr>\n",
       "    <tr>\n",
       "      <th>Angels &amp;amp; Demons</th>\n",
       "      <td>670</td>\n",
       "    </tr>\n",
       "  </tbody>\n",
       "</table>\n",
       "</div>"
      ],
      "text/plain": [
       "                                                 book_rating\n",
       "book_title                                                  \n",
       "Wild Animus                                      2502       \n",
       "The Lovely Bones: A Novel                        1295       \n",
       "The Da Vinci Code                                898        \n",
       "A Painted House                                  838        \n",
       "The Nanny Diaries: A Novel                       828        \n",
       "Bridget Jones's Diary                            815        \n",
       "The Secret Life of Bees                          774        \n",
       "Divine Secrets of the Ya-Ya Sisterhood: A Novel  740        \n",
       "The Red Tent (Bestselling Backlist)              723        \n",
       "Angels &amp; Demons                              670        "
      ]
     },
     "execution_count": 64,
     "metadata": {},
     "output_type": "execute_result"
    }
   ],
   "source": [
    "top_ten_books= pd.DataFrame(merged2_df.groupby('book_title')['book_rating'].count()\n",
    "                         .sort_values(ascending=False).head(10))\n",
    "print('The top ten books as per ratings : ')\n",
    "top_ten_books"
   ]
  },
  {
   "cell_type": "markdown",
   "metadata": {
    "id": "nHA8aUldNbgZ"
   },
   "source": [
    "The list above consists of the top 10 book recommendations based on ratings. However, these recommendations are not generated by a recommendation system; rather, they are simply the top 10 books with the highest ratings."
   ]
  },
  {
   "cell_type": "markdown",
   "metadata": {
    "id": "r0m4DklRNlBp"
   },
   "source": [
    "#Memory-Based Collaborative Filtering"
   ]
  },
  {
   "cell_type": "markdown",
   "metadata": {
    "id": "eTRAmVMLNqGw"
   },
   "source": [
    "This approach uses the memory of previous users interactions to compute users similarities based on items they've interacted (user-based approach) or compute items similarities based on the users that have interacted with them (item-based approach)."
   ]
  },
  {
   "cell_type": "markdown",
   "metadata": {
    "id": "rIL9x4wTNxnn"
   },
   "source": [
    "Train - Test Split"
   ]
  },
  {
   "cell_type": "code",
   "execution_count": 65,
   "metadata": {
    "id": "UiQGncthNJ4Y"
   },
   "outputs": [],
   "source": [
    "from sklearn import model_selection\n",
    "train_data, test_data = model_selection.train_test_split(merged2_df, test_size=0.20)"
   ]
  },
  {
   "cell_type": "code",
   "execution_count": 66,
   "metadata": {
    "colab": {
     "base_uri": "https://localhost:8080/"
    },
    "id": "fKaCc_MPNyUn",
    "outputId": "d33e2001-4c46-4b16-a7a3-cd2bf03eabe9"
   },
   "outputs": [
    {
     "name": "stdout",
     "output_type": "stream",
     "text": [
      "Training set lengths: 824908\n",
      "Testing set lengths: 206228\n",
      "Test set is 20% of the full dataset.\n"
     ]
    }
   ],
   "source": [
    "print(f'Training set lengths: {len(train_data)}')\n",
    "print(f'Testing set lengths: {len(test_data)}')\n",
    "print(f'Test set is {(len(test_data)/(len(train_data)+len(test_data))*100):.0f}% of the full dataset.')"
   ]
  },
  {
   "cell_type": "code",
   "execution_count": 67,
   "metadata": {
    "id": "7YHZPk6XOJEm"
   },
   "outputs": [],
   "source": [
    "# Get int mapping for user_id in train dataset\n",
    "u_unique_train = train_data.user_id.unique()\n",
    "train_data_user2idx = {o:i for i, o in enumerate(u_unique_train)}\n",
    "\n",
    "# Get int mapping for isbn in train dataset\n",
    "i_unique_train = train_data.isbn.unique()\n",
    "train_data_book2idx = {o:i for i, o in enumerate(i_unique_train)}"
   ]
  },
  {
   "cell_type": "code",
   "execution_count": 68,
   "metadata": {
    "id": "tJF1FvjJONA-"
   },
   "outputs": [],
   "source": [
    "# Get int mapping for user_id in test dataset\n",
    "u_unique_test = test_data.user_id.unique()\n",
    "test_data_user2idx = {o:i for i, o in enumerate(u_unique_test)}\n",
    "\n",
    "# Get int mapping for isbn in test dataset\n",
    "i_unique_test = test_data.isbn.unique()\n",
    "test_data_book2idx = {o:i for i, o in enumerate(i_unique_test)}"
   ]
  },
  {
   "cell_type": "code",
   "execution_count": 69,
   "metadata": {
    "id": "ipY8OPruOOzu"
   },
   "outputs": [],
   "source": [
    "# training set\n",
    "train_data['u_unique'] = train_data['user_id'].map(train_data_user2idx)\n",
    "train_data['i_unique'] = train_data['isbn'].map(train_data_book2idx)\n",
    "\n",
    "# testing set\n",
    "test_data['u_unique'] = test_data['user_id'].map(test_data_user2idx)\n",
    "test_data['i_unique'] = test_data['isbn'].map(test_data_book2idx)\n",
    "\n",
    "# Convert back to three feature of dataframe\n",
    "train_data = train_data[['u_unique', 'i_unique', 'book_rating']]\n",
    "test_data = test_data[['u_unique', 'i_unique', 'book_rating']]"
   ]
  },
  {
   "cell_type": "code",
   "execution_count": 70,
   "metadata": {
    "colab": {
     "base_uri": "https://localhost:8080/",
     "height": 206
    },
    "id": "V2SAM8lWOVWt",
    "outputId": "7307448a-81a0-4c18-8849-ba0a3cde47c1"
   },
   "outputs": [
    {
     "data": {
      "text/html": [
       "<div>\n",
       "<style scoped>\n",
       "    .dataframe tbody tr th:only-of-type {\n",
       "        vertical-align: middle;\n",
       "    }\n",
       "\n",
       "    .dataframe tbody tr th {\n",
       "        vertical-align: top;\n",
       "    }\n",
       "\n",
       "    .dataframe thead th {\n",
       "        text-align: right;\n",
       "    }\n",
       "</style>\n",
       "<table border=\"1\" class=\"dataframe\">\n",
       "  <thead>\n",
       "    <tr style=\"text-align: right;\">\n",
       "      <th></th>\n",
       "      <th>u_unique</th>\n",
       "      <th>i_unique</th>\n",
       "      <th>book_rating</th>\n",
       "    </tr>\n",
       "  </thead>\n",
       "  <tbody>\n",
       "    <tr>\n",
       "      <th>827215</th>\n",
       "      <td>21787</td>\n",
       "      <td>19017</td>\n",
       "      <td>0</td>\n",
       "    </tr>\n",
       "    <tr>\n",
       "      <th>978899</th>\n",
       "      <td>27578</td>\n",
       "      <td>88056</td>\n",
       "      <td>0</td>\n",
       "    </tr>\n",
       "    <tr>\n",
       "      <th>1021794</th>\n",
       "      <td>41358</td>\n",
       "      <td>68184</td>\n",
       "      <td>7</td>\n",
       "    </tr>\n",
       "    <tr>\n",
       "      <th>665895</th>\n",
       "      <td>719</td>\n",
       "      <td>96886</td>\n",
       "      <td>0</td>\n",
       "    </tr>\n",
       "    <tr>\n",
       "      <th>514185</th>\n",
       "      <td>422</td>\n",
       "      <td>5520</td>\n",
       "      <td>1</td>\n",
       "    </tr>\n",
       "  </tbody>\n",
       "</table>\n",
       "</div>"
      ],
      "text/plain": [
       "         u_unique  i_unique  book_rating\n",
       "827215   21787     19017     0          \n",
       "978899   27578     88056     0          \n",
       "1021794  41358     68184     7          \n",
       "665895   719       96886     0          \n",
       "514185   422       5520      1          "
      ]
     },
     "execution_count": 70,
     "metadata": {},
     "output_type": "execute_result"
    }
   ],
   "source": [
    "train_data.sample(5)"
   ]
  },
  {
   "cell_type": "code",
   "execution_count": 71,
   "metadata": {
    "colab": {
     "base_uri": "https://localhost:8080/",
     "height": 206
    },
    "id": "uv2Jjrp_OYU5",
    "outputId": "49f84b57-991f-4798-9462-301b2d1371c1"
   },
   "outputs": [
    {
     "data": {
      "text/html": [
       "<div>\n",
       "<style scoped>\n",
       "    .dataframe tbody tr th:only-of-type {\n",
       "        vertical-align: middle;\n",
       "    }\n",
       "\n",
       "    .dataframe tbody tr th {\n",
       "        vertical-align: top;\n",
       "    }\n",
       "\n",
       "    .dataframe thead th {\n",
       "        text-align: right;\n",
       "    }\n",
       "</style>\n",
       "<table border=\"1\" class=\"dataframe\">\n",
       "  <thead>\n",
       "    <tr style=\"text-align: right;\">\n",
       "      <th></th>\n",
       "      <th>u_unique</th>\n",
       "      <th>i_unique</th>\n",
       "      <th>book_rating</th>\n",
       "    </tr>\n",
       "  </thead>\n",
       "  <tbody>\n",
       "    <tr>\n",
       "      <th>677340</th>\n",
       "      <td>13451</td>\n",
       "      <td>19916</td>\n",
       "      <td>0</td>\n",
       "    </tr>\n",
       "    <tr>\n",
       "      <th>880064</th>\n",
       "      <td>19047</td>\n",
       "      <td>1305</td>\n",
       "      <td>0</td>\n",
       "    </tr>\n",
       "    <tr>\n",
       "      <th>76291</th>\n",
       "      <td>235</td>\n",
       "      <td>81532</td>\n",
       "      <td>0</td>\n",
       "    </tr>\n",
       "    <tr>\n",
       "      <th>811569</th>\n",
       "      <td>7751</td>\n",
       "      <td>1687</td>\n",
       "      <td>0</td>\n",
       "    </tr>\n",
       "    <tr>\n",
       "      <th>991849</th>\n",
       "      <td>3695</td>\n",
       "      <td>5775</td>\n",
       "      <td>0</td>\n",
       "    </tr>\n",
       "  </tbody>\n",
       "</table>\n",
       "</div>"
      ],
      "text/plain": [
       "        u_unique  i_unique  book_rating\n",
       "677340  13451     19916     0          \n",
       "880064  19047     1305      0          \n",
       "76291   235       81532     0          \n",
       "811569  7751      1687      0          \n",
       "991849  3695      5775      0          "
      ]
     },
     "execution_count": 71,
     "metadata": {},
     "output_type": "execute_result"
    }
   ],
   "source": [
    "test_data.sample(5)"
   ]
  },
  {
   "cell_type": "markdown",
   "metadata": {
    "id": "ghQlunMrOe2C"
   },
   "source": [
    "#User-Item for Train Data"
   ]
  },
  {
   "cell_type": "code",
   "execution_count": 84,
   "metadata": {
    "id": "e1ydJkl4OZwg"
   },
   "outputs": [
    {
     "ename": "SyntaxError",
     "evalue": "invalid syntax (1737887851.py, line 5)",
     "output_type": "error",
     "traceback": [
      "\u001b[1;36m  Input \u001b[1;32mIn [84]\u001b[1;36m\u001b[0m\n\u001b[1;33m    train_matrix = np.zeros((n_users, n_books,dtype ='uint8'))\u001b[0m\n\u001b[1;37m                                                    ^\u001b[0m\n\u001b[1;31mSyntaxError\u001b[0m\u001b[1;31m:\u001b[0m invalid syntax\n"
     ]
    }
   ],
   "source": [
    "# first I'll create an empty matrix of users books and then I'll add the appropriate values to the matrix by extracting them from the dataset\n",
    "n_users = train_data['u_unique'].nunique()\n",
    "n_books = train_data['i_unique'].nunique()\n",
    "\n",
    "train_matrix = np.zeros((n_users, n_books,dtype ='uint8'))\n",
    "\n",
    "for entry in train_data.itertuples():\n",
    "    train_matrix[entry[1]-1, entry[2]-1] = entry[3]    # entry[1] is the user-id, entry[2] is the book-isbn and -1 is to counter 0-based indexing\n"
   ]
  },
  {
   "cell_type": "code",
   "execution_count": 85,
   "metadata": {
    "scrolled": true
   },
   "outputs": [
    {
     "ename": "MemoryError",
     "evalue": "Unable to allocate 72.3 GiB for an array with shape (81229, 238982) and data type int32",
     "output_type": "error",
     "traceback": [
      "\u001b[1;31m---------------------------------------------------------------------------\u001b[0m",
      "\u001b[1;31mMemoryError\u001b[0m                               Traceback (most recent call last)",
      "Input \u001b[1;32mIn [85]\u001b[0m, in \u001b[0;36m<cell line: 7>\u001b[1;34m()\u001b[0m\n\u001b[0;32m      4\u001b[0m n_books \u001b[38;5;241m=\u001b[39m train_data[\u001b[38;5;124m'\u001b[39m\u001b[38;5;124mi_unique\u001b[39m\u001b[38;5;124m'\u001b[39m]\u001b[38;5;241m.\u001b[39mnunique()\n\u001b[0;32m      6\u001b[0m \u001b[38;5;66;03m# Assuming your data contains ratings as integers (you can adjust the dtype as needed)\u001b[39;00m\n\u001b[1;32m----> 7\u001b[0m train_matrix \u001b[38;5;241m=\u001b[39m \u001b[43mnp\u001b[49m\u001b[38;5;241;43m.\u001b[39;49m\u001b[43mzeros\u001b[49m\u001b[43m(\u001b[49m\u001b[43m(\u001b[49m\u001b[43mn_users\u001b[49m\u001b[43m,\u001b[49m\u001b[43m \u001b[49m\u001b[43mn_books\u001b[49m\u001b[43m)\u001b[49m\u001b[43m,\u001b[49m\u001b[43m \u001b[49m\u001b[43mdtype\u001b[49m\u001b[38;5;241;43m=\u001b[39;49m\u001b[38;5;124;43m'\u001b[39;49m\u001b[38;5;124;43mint32\u001b[39;49m\u001b[38;5;124;43m'\u001b[39;49m\u001b[43m)\u001b[49m\n\u001b[0;32m      9\u001b[0m \u001b[38;5;28;01mfor\u001b[39;00m entry \u001b[38;5;129;01min\u001b[39;00m train_data\u001b[38;5;241m.\u001b[39mitertuples():\n\u001b[0;32m     10\u001b[0m     user_idx \u001b[38;5;241m=\u001b[39m entry[\u001b[38;5;241m1\u001b[39m] \u001b[38;5;241m-\u001b[39m \u001b[38;5;241m1\u001b[39m  \u001b[38;5;66;03m# Adjust for 0-based indexing\u001b[39;00m\n",
      "\u001b[1;31mMemoryError\u001b[0m: Unable to allocate 72.3 GiB for an array with shape (81229, 238982) and data type int32"
     ]
    }
   ],
   "source": [
    "\n",
    "import numpy as np\n",
    "\n",
    "n_users = train_data['u_unique'].nunique()\n",
    "n_books = train_data['i_unique'].nunique()\n",
    "\n",
    "# Assuming your data contains ratings as integers (you can adjust the dtype as needed)\n",
    "train_matrix = np.zeros((n_users, n_books), dtype='int32')\n",
    "\n",
    "for entry in train_data.itertuples():\n",
    "    user_idx = entry[1] - 1  # Adjust for 0-based indexing\n",
    "    book_idx = entry[2] - 1  # Adjust for 0-based indexing\n",
    "    rating = entry[3]  # Assuming entry[3] contains the rating\n",
    "    train_matrix[user_idx, book_idx] = rating"
   ]
  },
  {
   "cell_type": "code",
   "execution_count": 88,
   "metadata": {},
   "outputs": [
    {
     "ename": "ValueError",
     "evalue": "negative row index found",
     "output_type": "error",
     "traceback": [
      "\u001b[1;31m---------------------------------------------------------------------------\u001b[0m",
      "\u001b[1;31mValueError\u001b[0m                                Traceback (most recent call last)",
      "Input \u001b[1;32mIn [88]\u001b[0m, in \u001b[0;36m<cell line: 22>\u001b[1;34m()\u001b[0m\n\u001b[0;32m     19\u001b[0m     col_indices\u001b[38;5;241m.\u001b[39mappend(book_idx)\n\u001b[0;32m     21\u001b[0m \u001b[38;5;66;03m# Create the COO matrix\u001b[39;00m\n\u001b[1;32m---> 22\u001b[0m train_matrix \u001b[38;5;241m=\u001b[39m \u001b[43mcoo_matrix\u001b[49m\u001b[43m(\u001b[49m\u001b[43m(\u001b[49m\u001b[43mcoo_data\u001b[49m\u001b[43m,\u001b[49m\u001b[43m \u001b[49m\u001b[43m(\u001b[49m\u001b[43mrow_indices\u001b[49m\u001b[43m,\u001b[49m\u001b[43m \u001b[49m\u001b[43mcol_indices\u001b[49m\u001b[43m)\u001b[49m\u001b[43m)\u001b[49m\u001b[43m,\u001b[49m\u001b[43m \u001b[49m\u001b[43mshape\u001b[49m\u001b[38;5;241;43m=\u001b[39;49m\u001b[43m(\u001b[49m\u001b[43mn_users\u001b[49m\u001b[43m,\u001b[49m\u001b[43m \u001b[49m\u001b[43mn_books\u001b[49m\u001b[43m)\u001b[49m\u001b[43m,\u001b[49m\u001b[43m \u001b[49m\u001b[43mdtype\u001b[49m\u001b[38;5;241;43m=\u001b[39;49m\u001b[43mnp\u001b[49m\u001b[38;5;241;43m.\u001b[39;49m\u001b[43mfloat32\u001b[49m\u001b[43m)\u001b[49m\n",
      "File \u001b[1;32m~\\anaconda3\\lib\\site-packages\\scipy\\sparse\\coo.py:196\u001b[0m, in \u001b[0;36mcoo_matrix.__init__\u001b[1;34m(self, arg1, shape, dtype, copy)\u001b[0m\n\u001b[0;32m    193\u001b[0m \u001b[38;5;28;01mif\u001b[39;00m dtype \u001b[38;5;129;01mis\u001b[39;00m \u001b[38;5;129;01mnot\u001b[39;00m \u001b[38;5;28;01mNone\u001b[39;00m:\n\u001b[0;32m    194\u001b[0m     \u001b[38;5;28mself\u001b[39m\u001b[38;5;241m.\u001b[39mdata \u001b[38;5;241m=\u001b[39m \u001b[38;5;28mself\u001b[39m\u001b[38;5;241m.\u001b[39mdata\u001b[38;5;241m.\u001b[39mastype(dtype, copy\u001b[38;5;241m=\u001b[39m\u001b[38;5;28;01mFalse\u001b[39;00m)\n\u001b[1;32m--> 196\u001b[0m \u001b[38;5;28;43mself\u001b[39;49m\u001b[38;5;241;43m.\u001b[39;49m\u001b[43m_check\u001b[49m\u001b[43m(\u001b[49m\u001b[43m)\u001b[49m\n",
      "File \u001b[1;32m~\\anaconda3\\lib\\site-packages\\scipy\\sparse\\coo.py:287\u001b[0m, in \u001b[0;36mcoo_matrix._check\u001b[1;34m(self)\u001b[0m\n\u001b[0;32m    285\u001b[0m     \u001b[38;5;28;01mraise\u001b[39;00m \u001b[38;5;167;01mValueError\u001b[39;00m(\u001b[38;5;124m'\u001b[39m\u001b[38;5;124mcolumn index exceeds matrix dimensions\u001b[39m\u001b[38;5;124m'\u001b[39m)\n\u001b[0;32m    286\u001b[0m \u001b[38;5;28;01mif\u001b[39;00m \u001b[38;5;28mself\u001b[39m\u001b[38;5;241m.\u001b[39mrow\u001b[38;5;241m.\u001b[39mmin() \u001b[38;5;241m<\u001b[39m \u001b[38;5;241m0\u001b[39m:\n\u001b[1;32m--> 287\u001b[0m     \u001b[38;5;28;01mraise\u001b[39;00m \u001b[38;5;167;01mValueError\u001b[39;00m(\u001b[38;5;124m'\u001b[39m\u001b[38;5;124mnegative row index found\u001b[39m\u001b[38;5;124m'\u001b[39m)\n\u001b[0;32m    288\u001b[0m \u001b[38;5;28;01mif\u001b[39;00m \u001b[38;5;28mself\u001b[39m\u001b[38;5;241m.\u001b[39mcol\u001b[38;5;241m.\u001b[39mmin() \u001b[38;5;241m<\u001b[39m \u001b[38;5;241m0\u001b[39m:\n\u001b[0;32m    289\u001b[0m     \u001b[38;5;28;01mraise\u001b[39;00m \u001b[38;5;167;01mValueError\u001b[39;00m(\u001b[38;5;124m'\u001b[39m\u001b[38;5;124mnegative column index found\u001b[39m\u001b[38;5;124m'\u001b[39m)\n",
      "\u001b[1;31mValueError\u001b[0m: negative row index found"
     ]
    }
   ],
   "source": [
    "from scipy.sparse import coo_matrix\n",
    "\n",
    "n_users = train_data['u_unique'].nunique()\n",
    "n_books = train_data['i_unique'].nunique()\n",
    "\n",
    "# Create empty COO matrix\n",
    "coo_data = []\n",
    "row_indices = []\n",
    "col_indices = []\n",
    "\n",
    "for entry in train_data.itertuples():\n",
    "    user_idx = entry[1] - 1  # Adjust for 0-based indexing\n",
    "    book_idx = entry[2] - 1  # Adjust for 0-based indexing\n",
    "    rating = entry[3]  # Assuming entry[3] contains the rating\n",
    "    \n",
    "    # Append data to lists\n",
    "    coo_data.append(rating)\n",
    "    row_indices.append(user_idx)\n",
    "    col_indices.append(book_idx)\n",
    "\n",
    "# Create the COO matrix\n",
    "train_matrix = coo_matrix((coo_data, (row_indices, col_indices)), shape=(n_users, n_books), dtype=np.float32)\n",
    "\n"
   ]
  },
  {
   "cell_type": "code",
   "execution_count": 86,
   "metadata": {
    "colab": {
     "base_uri": "https://localhost:8080/"
    },
    "id": "0qN_5HonOkje",
    "outputId": "c4a25d1b-2811-4d5c-cca5-128aac64881e"
   },
   "outputs": [
    {
     "data": {
      "text/plain": [
       "(81229, 238982)"
      ]
     },
     "execution_count": 86,
     "metadata": {},
     "output_type": "execute_result"
    }
   ],
   "source": [
    "train_matrix.shape"
   ]
  },
  {
   "cell_type": "markdown",
   "metadata": {
    "id": "I2u52CMbO27-"
   },
   "source": [
    "## User-Item for Test Data"
   ]
  },
  {
   "cell_type": "code",
   "execution_count": null,
   "metadata": {
    "id": "owk8Cow5O31H"
   },
   "outputs": [],
   "source": [
    "n_users = test_data['u_unique'].nunique()\n",
    "n_books = test_data['i_unique'].nunique()\n",
    "\n",
    "test_matrix = np.zeros((n_users, n_books))\n",
    "\n",
    "for entry in test_data.itertuples():\n",
    "    test_matrix[entry[1]-1, entry[2]-1] = entry[3]"
   ]
  },
  {
   "cell_type": "code",
   "execution_count": null,
   "metadata": {
    "colab": {
     "base_uri": "https://localhost:8080/"
    },
    "id": "r_xWG6xqO9u1",
    "outputId": "e2c632d9-b732-4e4e-e280-0e8a46ae32a9"
   },
   "outputs": [],
   "source": [
    "test_matrix.shape"
   ]
  },
  {
   "cell_type": "markdown",
   "metadata": {
    "id": "LTJPZ5TTPA1H"
   },
   "source": [
    "#Cosine Similarity Based Recommendation System"
   ]
  },
  {
   "cell_type": "markdown",
   "metadata": {
    "id": "huAreLpwPIud"
   },
   "source": [
    "In recommender systems, a frequently employed distance metric is cosine similarity. This method treats ratings as vectors within an n-dimensional space and determines similarity by assessing the angle between these vectors."
   ]
  },
  {
   "cell_type": "code",
   "execution_count": null,
   "metadata": {
    "id": "5guOeFAbO-uQ"
   },
   "outputs": [],
   "source": [
    "# To make item-item similarity we need to take the transpose of the matrix\n",
    "train_matrix_small = train_matrix[:5000, :5000]\n",
    "test_matrix_small = test_matrix[:5000, :5000]\n",
    "\n",
    "from sklearn.metrics.pairwise import pairwise_distances\n",
    "user_similarity = pairwise_distances(train_matrix_small, metric='cosine')\n",
    "item_similarity = pairwise_distances(train_matrix_small.T, metric='cosine')"
   ]
  },
  {
   "cell_type": "code",
   "execution_count": null,
   "metadata": {
    "id": "m9QOFqrdPTdk"
   },
   "outputs": [],
   "source": [
    "# function to predict the similarity :\n",
    "def predict_books(ratings, similarity, type='user'): # default type is 'user'\n",
    "    if type == 'user':\n",
    "        mean_user_rating = ratings.mean(axis=1)\n",
    "\n",
    "        # Use np.newaxis so that mean_user_rating has the same format as ratings\n",
    "        ratings_diff = (ratings - mean_user_rating[:, np.newaxis])\n",
    "        pred = mean_user_rating[:, np.newaxis] + similarity.dot(ratings_diff) / np.array([np.abs(similarity).sum(axis=1)]).T\n",
    "    elif type == 'item':\n",
    "        pred = ratings.dot(similarity) / np.array([np.abs(similarity).sum(axis=1)])\n",
    "    return pred"
   ]
  },
  {
   "cell_type": "code",
   "execution_count": null,
   "metadata": {
    "id": "hjW6kuymPXGV"
   },
   "outputs": [],
   "source": [
    "item_prediction = predict_books(train_matrix_small, item_similarity, type='item')\n",
    "user_prediction = predict_books(train_matrix_small, user_similarity, type='user')"
   ]
  },
  {
   "cell_type": "markdown",
   "metadata": {
    "id": "oVid4jCvPb6n"
   },
   "source": [
    "#Evaluation Metric"
   ]
  },
  {
   "cell_type": "code",
   "execution_count": null,
   "metadata": {
    "colab": {
     "base_uri": "https://localhost:8080/"
    },
    "id": "XDM1Rj5aPd01",
    "outputId": "81dc8e53-5a06-4af5-d4ba-bfd1e67fb3b7"
   },
   "outputs": [],
   "source": [
    "# Evaluation metric by mean squared error\n",
    "from sklearn.metrics import mean_squared_error\n",
    "from math import sqrt\n",
    "\n",
    "def rmse(prediction, test_matrix):\n",
    "    prediction = prediction[test_matrix.nonzero()].flatten()\n",
    "    test_matrix = test_matrix[test_matrix.nonzero()].flatten()\n",
    "    return sqrt(mean_squared_error(prediction, test_matrix))\n",
    "\n",
    "print(f'Item-based CF RMSE: {rmse(item_prediction, test_matrix_small)}')\n",
    "print(f'User-based CF RMSE: {rmse(user_prediction, test_matrix_small)}')"
   ]
  },
  {
   "cell_type": "markdown",
   "metadata": {
    "id": "lkul0usWPlkN"
   },
   "source": [
    "By cosine similarity in recommendation system it gives 7.94 RMSE score."
   ]
  },
  {
   "cell_type": "markdown",
   "metadata": {
    "id": "np8P0mYIPojN"
   },
   "source": [
    "We can make improvement in this score by using another method. Let's use Single Value Decomposition model (SVD) model to implement"
   ]
  },
  {
   "cell_type": "markdown",
   "metadata": {
    "id": "ar8_y0wUPu4N"
   },
   "source": [
    "Let's go through Model based approach by SVD model"
   ]
  },
  {
   "cell_type": "code",
   "execution_count": null,
   "metadata": {
    "colab": {
     "base_uri": "https://localhost:8080/"
    },
    "id": "zXFvCqnoQQFt",
    "outputId": "bc86394e-872e-4270-947c-35590df44a1b"
   },
   "outputs": [],
   "source": [
    "pip install scikit-surprise\n"
   ]
  },
  {
   "cell_type": "code",
   "execution_count": null,
   "metadata": {
    "id": "9PlcVFIWPpxV"
   },
   "outputs": [],
   "source": [
    "from surprise import Reader, Dataset\n"
   ]
  },
  {
   "cell_type": "code",
   "execution_count": null,
   "metadata": {
    "id": "dspl8Ro1Qgd9"
   },
   "outputs": [],
   "source": [
    "reader = Reader(rating_scale=(1, 10))\n",
    "data = Dataset.load_from_df(ratings_explicit[['user_id','isbn','book_rating']], reader)"
   ]
  },
  {
   "cell_type": "code",
   "execution_count": null,
   "metadata": {
    "colab": {
     "base_uri": "https://localhost:8080/"
    },
    "id": "Wc5K1uBmY0zF",
    "outputId": "a4384066-c0b6-4cbd-dc47-2ce8adf660b6"
   },
   "outputs": [],
   "source": [
    "from surprise import SVD, model_selection, accuracy\n",
    "model = SVD()\n",
    "\n",
    "# Train on books dataset\n",
    "%time model_selection.cross_validate(model, data, measures=['RMSE'], cv=5, verbose=True)"
   ]
  },
  {
   "cell_type": "markdown",
   "metadata": {
    "id": "sBM2RGWbY6GF"
   },
   "source": [
    "#Train - Test Split"
   ]
  },
  {
   "cell_type": "code",
   "execution_count": null,
   "metadata": {
    "colab": {
     "base_uri": "https://localhost:8080/"
    },
    "id": "svy_PVLpZGW1",
    "outputId": "21ee2b7b-6bbd-450a-d12d-a6c5635b4b15"
   },
   "outputs": [],
   "source": [
    "# train and test split\n",
    "trainset, testset = model_selection.train_test_split(data, test_size=0.2)\n",
    "\n",
    "# SVD model\n",
    "model = SVD()\n",
    "model.fit(trainset)"
   ]
  },
  {
   "cell_type": "markdown",
   "metadata": {
    "id": "92hxzwn8ZM0W"
   },
   "source": [
    "#Evaluation metrics for SVD model"
   ]
  },
  {
   "cell_type": "code",
   "execution_count": null,
   "metadata": {
    "colab": {
     "base_uri": "https://localhost:8080/"
    },
    "id": "x7fSu4PPZO68",
    "outputId": "584d55f3-89f9-4394-855f-41c3b5438204"
   },
   "outputs": [],
   "source": [
    "# displaying RMSE score\n",
    "predictions = model.test(testset)\n",
    "print(f\"The accuracy is {accuracy.rmse(predictions)}\")"
   ]
  },
  {
   "cell_type": "markdown",
   "metadata": {
    "id": "OpAmU8wZZUPW"
   },
   "source": [
    "The RMSE score is better now with 1.63"
   ]
  },
  {
   "cell_type": "markdown",
   "metadata": {
    "id": "0_km2XQFZYJk"
   },
   "source": [
    "Testing Results"
   ]
  },
  {
   "cell_type": "code",
   "execution_count": null,
   "metadata": {
    "colab": {
     "base_uri": "https://localhost:8080/"
    },
    "id": "uqkVECjiZVH1",
    "outputId": "029a1213-ae76-46ad-8135-2ffd00bf031b"
   },
   "outputs": [],
   "source": [
    "# to test result let's take an user-id and item-id to test our model.\n",
    "uid = 276744\n",
    "iid = '038550120X'\n",
    "pred = model.predict(uid, iid, verbose=True)"
   ]
  },
  {
   "cell_type": "markdown",
   "metadata": {
    "id": "3oUWN7x6ZeR0"
   },
   "source": [
    "Now let's display estimated rating and real rating"
   ]
  },
  {
   "cell_type": "code",
   "execution_count": null,
   "metadata": {
    "colab": {
     "base_uri": "https://localhost:8080/"
    },
    "id": "Un7-QE2yZbyl",
    "outputId": "8de1dffd-6cd0-4ece-b90b-5eb26d9f19a9"
   },
   "outputs": [],
   "source": [
    "# display estimated rating and real rating\n",
    "print(f'The estimated rating for the book with ISBN code {pred.iid} from user #{pred.uid} is {pred.est:.2f}.\\n')\n",
    "actual_rtg= ratings_explicit[(ratings_explicit.user_id==pred.uid) &\n",
    "                             (ratings_explicit.isbn==pred.iid)].book_rating.values[0]\n",
    "print(f'The real rating given for this was {actual_rtg:.2f}.')"
   ]
  },
  {
   "cell_type": "code",
   "execution_count": null,
   "metadata": {
    "id": "i-FJiPs2ZkVE"
   },
   "outputs": [],
   "source": [
    "# The following function was adapted from the surprise docs\n",
    "# and can be used to get the top book recommendations for each user.\n",
    "from collections import defaultdict\n",
    "\n",
    "def get_top_n(predictions, n=10):\n",
    "\n",
    "    # First map the predictions to each user\n",
    "    top_n = defaultdict(list)\n",
    "    for uid, iid, true_r, est, _ in predictions:\n",
    "        top_n[uid].append((iid, est))\n",
    "\n",
    "    # Then sort the predictions for each user and retrieve the k highest ones\n",
    "    for uid, user_ratings in top_n.items():\n",
    "        user_ratings.sort(key=lambda x: x[1], reverse=True)\n",
    "        top_n[uid] = user_ratings[:n]\n",
    "\n",
    "    return top_n"
   ]
  },
  {
   "cell_type": "code",
   "execution_count": null,
   "metadata": {
    "id": "UruvgEPJZnmE"
   },
   "outputs": [],
   "source": [
    "# prediciton on teset and getting top predictions\n",
    "pred = model.test(testset)\n",
    "top_n = get_top_n(pred)"
   ]
  },
  {
   "cell_type": "code",
   "execution_count": null,
   "metadata": {
    "colab": {
     "base_uri": "https://localhost:8080/",
     "height": 423
    },
    "id": "EEqEyEdgZqfc",
    "outputId": "5a445f05-3561-4e85-b951-2cdeb9a86f67"
   },
   "outputs": [],
   "source": [
    "pred_testset_df = pd.DataFrame(pred)\n",
    "pred_testset_df"
   ]
  },
  {
   "cell_type": "markdown",
   "metadata": {
    "id": "Ehyl6GIRZxIE"
   },
   "source": [
    "We can view predictions from testset that we performed with SVD model."
   ]
  },
  {
   "cell_type": "markdown",
   "metadata": {
    "id": "pPxi70iOZ0u0"
   },
   "source": [
    "Retrieving full book titles from full 'books_users_ratings' dataframe"
   ]
  },
  {
   "cell_type": "code",
   "execution_count": null,
   "metadata": {
    "id": "x5sGjc8mZyQc"
   },
   "outputs": [],
   "source": [
    "def get_reading_list(userid):\n",
    "\n",
    "    reading_list = defaultdict(list)\n",
    "    top_n = get_top_n(pred, n=10)\n",
    "    for n in top_n[userid]:\n",
    "        book, rating = n\n",
    "        title = merged2_df.loc[merged2_df.isbn==book].book_title.unique()[0]\n",
    "        reading_list[title] = rating\n",
    "    return reading_list"
   ]
  },
  {
   "cell_type": "code",
   "execution_count": null,
   "metadata": {
    "colab": {
     "base_uri": "https://localhost:8080/"
    },
    "id": "_qXzJYS_Z4Bn",
    "outputId": "db668bf7-9c25-4e2f-badb-f6ee190f30ae"
   },
   "outputs": [],
   "source": [
    "example_reading_list = get_reading_list(userid=116866)\n",
    "for book, rating in example_reading_list.items():\n",
    "    print(f'{book}: {rating}')"
   ]
  },
  {
   "cell_type": "markdown",
   "metadata": {
    "id": "ZW1-DKbwb5da"
   },
   "source": [
    "As we can observe above we've got top recommendation of books and ratings with respective to it. So this was my recommendation system for BOOK RECOMMENDATION SYSTEM."
   ]
  },
  {
   "cell_type": "markdown",
   "metadata": {
    "id": "x5p-uDrYcKI7"
   },
   "source": [
    "#Conclusion\n",
    "\n",
    "Agatha Christie holds the highest number of books among the top 20 authors, with over 600 counts, followed by William Shakespeare.\n",
    "\n",
    "Harlequin leads in the number of published books, followed by Silhouette.\n",
    "\n",
    "Books are mainly published between 1950 and 2005.\n",
    "\n",
    "Readers between 30-40 years show the highest preference for books, followed by those in the 20-30 age range.\n",
    "\n",
    "\"Selected Poems\" receives the highest rating, closely followed by \"Little Women\". Many users have given a rating of 0, indicating they haven't rated any books.\n",
    "\n",
    "The top 10 book recommendations based on ratings include \"The Lovely Bones: A Novel\" with 707 ratings. However, these recommendations are based on ratings rather than a recommendation system.\n",
    "\n",
    "Using cosine similarity yields an RMSE score of 7.94, while the SVD model improves the score to 1.63.\n",
    "\n",
    "SVD proves to be the best model, with the lowest RMSE score across all datasets.\n",
    "\n",
    "The model-based approach results in the identification of the top 10 recommended books and their ratings.\n",
    "\n"
   ]
  },
  {
   "cell_type": "code",
   "execution_count": null,
   "metadata": {
    "colab": {
     "base_uri": "https://localhost:8080/"
    },
    "id": "1rIi-CncV2DK",
    "outputId": "fcf8f3cc-d704-4c47-fa79-f4a7cd744e99"
   },
   "outputs": [],
   "source": [
    "import joblib\n",
    "import shutil\n",
    "import os\n",
    "\n",
    "output_folder = '/content/drive/MyDrive/Book_Recommendation_Systems'\n",
    "\n",
    "model_filename = 'svd_model.pkl'\n",
    "joblib.dump(model, os.path.join(output_folder, model_filename))\n",
    "\n"
   ]
  },
  {
   "cell_type": "code",
   "execution_count": null,
   "metadata": {
    "colab": {
     "base_uri": "https://localhost:8080/"
    },
    "id": "BmPUmOrp0jVP",
    "outputId": "1136e18e-3831-4585-d166-c969207836b9"
   },
   "outputs": [],
   "source": [
    "\n",
    "from google.colab import drive\n",
    "import shutil\n",
    "\n",
    "# Mount your Google Drive\n",
    "drive.mount('/content/drive')\n",
    "\n",
    "# Specify the source and destination paths within Google Drive\n",
    "src = '/content/drive/MyDrive/Book_Recommendation_Systems/svd_model.pkl'\n",
    "dst = '/content/svd_model.pkl'\n",
    "\n",
    "try:\n",
    "    # Copy the file to your Colab environment\n",
    "    shutil.copy(src, dst)\n",
    "\n",
    "    # Optionally, you can remove the source file in Google Drive\n",
    "    # Note: Be careful when using os.remove on important files\n",
    "    # os.remove(src)\n",
    "\n",
    "    print(f\"File '{src}' copied to '{dst}' successfully.\")\n",
    "except FileNotFoundError:\n",
    "    print(f\"File not found: {src}\")\n"
   ]
  },
  {
   "cell_type": "code",
   "execution_count": null,
   "metadata": {
    "colab": {
     "base_uri": "https://localhost:8080/",
     "height": 36
    },
    "id": "_yLnndCCwmGR",
    "outputId": "28b211d5-504d-4024-c823-51f6c3bab694"
   },
   "outputs": [],
   "source": [
    "shutil.move(model_filename, os.path.join(output_folder, model_filename))"
   ]
  },
  {
   "cell_type": "markdown",
   "metadata": {
    "id": "ufNBeBaN0vsJ"
   },
   "source": [
    "#Deployment"
   ]
  },
  {
   "cell_type": "code",
   "execution_count": null,
   "metadata": {
    "colab": {
     "base_uri": "https://localhost:8080/"
    },
    "id": "JcQUbK2K5lJ_",
    "outputId": "441ab1ab-be62-4d02-ae16-c65a4a435dec"
   },
   "outputs": [],
   "source": [
    "!pip install -q streamlit"
   ]
  },
  {
   "cell_type": "code",
   "execution_count": null,
   "metadata": {
    "colab": {
     "base_uri": "https://localhost:8080/"
    },
    "id": "oRF9Q4BI5wpO",
    "outputId": "fcd2f919-f58b-417a-b712-ff226f0ddb1e"
   },
   "outputs": [],
   "source": [
    "!npm install localtunnel"
   ]
  },
  {
   "cell_type": "code",
   "execution_count": null,
   "metadata": {
    "colab": {
     "base_uri": "https://localhost:8080/"
    },
    "id": "r_v8nk7S5-8R",
    "outputId": "d414ae85-5489-45c3-f45e-c9a1ea30e9ae"
   },
   "outputs": [],
   "source": [
    "!pip install pyngrok"
   ]
  },
  {
   "cell_type": "code",
   "execution_count": null,
   "metadata": {
    "colab": {
     "base_uri": "https://localhost:8080/"
    },
    "id": "COf_uLr_5_iQ",
    "outputId": "e06b16ed-5c80-44a5-c2e8-d524a688b5de"
   },
   "outputs": [],
   "source": [
    "!pip install --upgrade pyngrok\n"
   ]
  },
  {
   "cell_type": "code",
   "execution_count": null,
   "metadata": {
    "colab": {
     "base_uri": "https://localhost:8080/"
    },
    "id": "IRZYcdAHuT1_",
    "outputId": "49b2aa5f-570d-4e0f-ccea-714720977c00"
   },
   "outputs": [],
   "source": [
    "%%writefile apps.py\n",
    "import streamlit as st\n",
    "import numpy as np\n",
    "import pickle\n",
    "from PIL import Image\n",
    "\n",
    "tab1, tab2 = st.tabs([\"Popular\", \"Book-Recommender\"])\n",
    "with tab1:\n",
    "    st.header(\"Top 10 books\")\n",
    "    popular_df = pickle.load(open('/content/drive/MyDrive/Book_Recommendation_Systems/popular.pkl', 'rb'))\n",
    "    book_pivot = pickle.load(open('/content/drive/MyDrive/Book_Recommendation_Systems/book_pivot.pkl', 'rb'))\n",
    "    book_list = book_pivot.index.values\n",
    "    image_url = popular_df['Image-URL-M'].tolist()\n",
    "    book_author = popular_df['Book-Author'].tolist()\n",
    "    total_ratings = popular_df['Book-Rating'].tolist()\n",
    "    avg_ratings = popular_df['avg_rating'].tolist()\n",
    "\n",
    "    col1, col2, col3, col4, col5 = st.columns(5)\n",
    "    with col1:\n",
    "        st.image(image_url[0])\n",
    "        st.text(book_author[0])\n",
    "        st.text(\"Ratings:\" + str(total_ratings[0]))\n",
    "        st.text(\"Avg.Rating:\" + str(round(avg_ratings[0], 2)))\n",
    "    with col2:\n",
    "        st.image(image_url[1])\n",
    "        st.text(book_author[1])\n",
    "        st.text(\"Ratings:\" + str(total_ratings[1]))\n",
    "        st.text(\"Avg.Rating:\" + str(round(avg_ratings[1], 2)))\n",
    "    with col3:\n",
    "        st.image(image_url[2])\n",
    "        st.text(book_author[2])\n",
    "        st.text(\"Ratings:\" + str(total_ratings[2]))\n",
    "        st.text(\"Avg.Rating:\" + str(round(avg_ratings[2], 2)))\n",
    "    with col4:\n",
    "        st.image(image_url[3])\n",
    "        st.text(book_author[3])\n",
    "        st.text(\"Ratings:\" + str(total_ratings[3]))\n",
    "        st.text(\"Avg.Rating:\" + str(round(avg_ratings[3], 2)))\n",
    "    with col5:\n",
    "        st.image(image_url[4])\n",
    "        st.text(book_author[4])\n",
    "        st.text(\"Ratings:\" + str(total_ratings[4]))\n",
    "        st.text(\"Avg.Rating:\" + str(round(avg_ratings[4], 2)))\n",
    "\n",
    "    col1, col2, col3, col4, col5 = st.columns(5)\n",
    "    with col1:\n",
    "        st.image(image_url[5])\n",
    "        st.text(book_author[5])\n",
    "        st.text(\"Ratings:\" + str(total_ratings[5]))\n",
    "        st.text(\"Avg.Rating:\" + str(round(avg_ratings[5], 2)))\n",
    "    with col2:\n",
    "        st.image(image_url[6])\n",
    "        st.text(book_author[6])\n",
    "        st.text(\"Ratings:\" + str(total_ratings[6]))\n",
    "        st.text(\"Avg.Rating:\" + str(round(avg_ratings[6], 2)))\n",
    "    with col3:\n",
    "        st.image(image_url[7])\n",
    "        st.text(book_author[7])\n",
    "        st.text(\"Ratings:\" + str(total_ratings[7]))\n",
    "        st.text(\"Avg.Rating:\" + str(round(avg_ratings[7], 2)))\n",
    "    with col4:\n",
    "        st.image(image_url[8])\n",
    "        st.text(book_author[8])\n",
    "        st.text(\"Ratings:\" + str(total_ratings[8]))\n",
    "        st.text(\"Avg.Rating:\" + str(round(avg_ratings[8], 2)))\n",
    "    with col5:\n",
    "        st.image(image_url[9])\n",
    "        st.text(book_author[9])\n",
    "        st.text(\"Ratings:\" + str(total_ratings[9]))\n",
    "        st.text(\"Avg.Rating:\" + str(round(avg_ratings[9], 2)))\n",
    "\n",
    "with tab2:\n",
    "    st.header('Book Recommender System')\n",
    "    similarity = pickle.load(open('/content/drive/MyDrive/Book_Recommendation_Systems/similarity.pkl', 'rb'))\n",
    "    book_pivot = pickle.load(open('/content/drive/MyDrive/Book_Recommendation_Systems/book_pivot.pkl', 'rb'))\n",
    "    books = pickle.load(open('/content/drive/MyDrive/Book_Recommendation_Systems/books.pkl', 'rb'))\n",
    "    book_names = pickle.load(open('/content/drive/MyDrive/Book_Recommendation_Systems/book_names.pkl', 'rb'))\n",
    "\n",
    "    def fetch_poster(suggestion):\n",
    "        book_name = []\n",
    "        ids_index = []\n",
    "        poster_url = []\n",
    "\n",
    "        for book_id in suggestion:\n",
    "            book_name.append(book_pivot.index[book_id])\n",
    "\n",
    "        for name in book_name:\n",
    "            ids = np.where(books['Book-Title'] == name)[0][0]\n",
    "            ids_index.append(ids)\n",
    "\n",
    "        for idx in ids_index:\n",
    "            url = books.iloc[idx]['Image-URL-L']\n",
    "            poster_url.append(url)\n",
    "\n",
    "        return poster_url\n",
    "\n",
    "    def recommend_book(book_name):\n",
    "        books_list = []\n",
    "        book_id = np.where(book_pivot.index == book_name)[0][0]\n",
    "        similar_items = sorted(list(enumerate(similarity[book_id])), key=lambda x: x[1], reverse=True)[1:7]\n",
    "        suggestion = []\n",
    "        for i in similar_items:\n",
    "            suggestion.append(i[0])\n",
    "\n",
    "        poster_url = fetch_poster(suggestion)\n",
    "\n",
    "        for i in similar_items:\n",
    "            books_list.append(book_pivot.index[i[0]])\n",
    "        return books_list, poster_url\n",
    "\n",
    "    selected_books = st.selectbox(\n",
    "        \"Type or select a book from the dropdown\",\n",
    "        book_names\n",
    "    )\n",
    "\n",
    "    if st.button('Show Recommendation'):\n",
    "        recommended_books, poster_url = recommend_book(selected_books)\n",
    "\n",
    "        col1, col2, col3 = st.columns(3)\n",
    "\n",
    "        with col1:\n",
    "            st.text(recommended_books[0])\n",
    "            st.image(poster_url[0])\n",
    "        with col2:\n",
    "            st.text(recommended_books[1])\n",
    "            st.image(poster_url[1])\n",
    "        with col3:\n",
    "            st.text(recommended_books[2])\n",
    "            st.image(poster_url[2])\n",
    "\n",
    "        col4, col5, col6 = st.columns(3)\n",
    "\n",
    "        with col4:\n",
    "            st.text(recommended_books[3])\n",
    "            st.image(poster_url[3])\n",
    "\n",
    "        with col5:\n",
    "            st.text(recommended_books[4])\n",
    "            st.image(poster_url[4])\n",
    "        with col6:\n",
    "            st.text(recommended_books[5])\n",
    "            st.image(poster_url[5])\n"
   ]
  },
  {
   "cell_type": "code",
   "execution_count": null,
   "metadata": {
    "colab": {
     "base_uri": "https://localhost:8080/"
    },
    "id": "j3HwOwFuWUNV",
    "outputId": "368009b4-a337-4582-d6d0-bd2ce268841c"
   },
   "outputs": [],
   "source": [
    "!streamlit run apps.py & npx localtunnel --port 8501\n",
    "# for ip password write 34.83.172.69 which is the external URL"
   ]
  },
  {
   "cell_type": "code",
   "execution_count": null,
   "metadata": {
    "id": "79zjvMoPifPI"
   },
   "outputs": [],
   "source": []
  }
 ],
 "metadata": {
  "accelerator": "GPU",
  "colab": {
   "gpuType": "T4",
   "provenance": []
  },
  "kernelspec": {
   "display_name": "Python 3 (ipykernel)",
   "language": "python",
   "name": "python3"
  },
  "language_info": {
   "codemirror_mode": {
    "name": "ipython",
    "version": 3
   },
   "file_extension": ".py",
   "mimetype": "text/x-python",
   "name": "python",
   "nbconvert_exporter": "python",
   "pygments_lexer": "ipython3",
   "version": "3.9.12"
  }
 },
 "nbformat": 4,
 "nbformat_minor": 1
}
